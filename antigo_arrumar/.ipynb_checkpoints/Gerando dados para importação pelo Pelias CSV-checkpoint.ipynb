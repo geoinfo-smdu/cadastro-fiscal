{
 "cells": [
  {
   "cell_type": "code",
   "execution_count": 1,
   "metadata": {},
   "outputs": [],
   "source": [
    "import pandas as pd\n",
    "import geopandas as gpd"
   ]
  },
  {
   "cell_type": "code",
   "execution_count": 2,
   "metadata": {},
   "outputs": [
    {
     "data": {
      "text/html": [
       "<pre>✔️ 762 µs (2021-06-28T13:42:45/2021-06-28T13:42:45)</pre>"
      ],
      "text/plain": [
       "<IPython.core.display.HTML object>"
      ]
     },
     "metadata": {},
     "output_type": "display_data"
    }
   ],
   "source": [
    "# Carrengando um complemento para visualizar quanto tempo demoram as tarefas\n",
    "\n",
    "%load_ext autotime"
   ]
  },
  {
   "cell_type": "code",
   "execution_count": 3,
   "metadata": {},
   "outputs": [
    {
     "data": {
      "text/html": [
       "<pre>✔️ 21.1 s (2021-06-28T13:42:45/2021-06-28T13:43:06)</pre>"
      ],
      "text/plain": [
       "<IPython.core.display.HTML object>"
      ]
     },
     "metadata": {},
     "output_type": "display_data"
    }
   ],
   "source": [
    "df_iptu = pd.read_csv('IPTU/IPTU_2020.zip', \\\n",
    "                      compression='zip', encoding='iso-8859-9', \\\n",
    "                      sep=';', decimal=',')"
   ]
  },
  {
   "cell_type": "code",
   "execution_count": 4,
   "metadata": {},
   "outputs": [
    {
     "data": {
      "text/html": [
       "<pre>✔️ 1.93 s (2021-06-28T13:43:06/2021-06-28T13:43:08)</pre>"
      ],
      "text/plain": [
       "<IPython.core.display.HTML object>"
      ]
     },
     "metadata": {},
     "output_type": "display_data"
    }
   ],
   "source": [
    "df_iptu['SQLC'] = df_iptu['NUMERO DO CONTRIBUINTE'].str[0:10] + \\\n",
    "df_iptu['NUMERO DO CONDOMINIO'].str[0:2]"
   ]
  },
  {
   "cell_type": "code",
   "execution_count": 5,
   "metadata": {},
   "outputs": [
    {
     "data": {
      "text/html": [
       "<pre>✔️ 2.32 s (2021-06-28T13:43:08/2021-06-28T13:43:11)</pre>"
      ],
      "text/plain": [
       "<IPython.core.display.HTML object>"
      ]
     },
     "metadata": {},
     "output_type": "display_data"
    }
   ],
   "source": [
    "df_iptu.loc[df_iptu['NUMERO DO CONDOMINIO'].str[0:2] == '00', 'lote'] = \\\n",
    "df_iptu.loc[df_iptu['NUMERO DO CONDOMINIO'].str[0:2] == '00', 'NUMERO DO CONTRIBUINTE'].str[6:10]"
   ]
  },
  {
   "cell_type": "code",
   "execution_count": 6,
   "metadata": {},
   "outputs": [
    {
     "data": {
      "text/html": [
       "<pre>✔️ 1.02 s (2021-06-28T13:43:11/2021-06-28T13:43:12)</pre>"
      ],
      "text/plain": [
       "<IPython.core.display.HTML object>"
      ]
     },
     "metadata": {},
     "output_type": "display_data"
    }
   ],
   "source": [
    "df_iptu.loc[df_iptu['NUMERO DO CONDOMINIO'].str[0:2] != '00', 'lote'] = '0000'"
   ]
  },
  {
   "cell_type": "code",
   "execution_count": 7,
   "metadata": {},
   "outputs": [
    {
     "data": {
      "text/html": [
       "<pre>✔️ 2.06 s (2021-06-28T13:43:12/2021-06-28T13:43:14)</pre>"
      ],
      "text/plain": [
       "<IPython.core.display.HTML object>"
      ]
     },
     "metadata": {},
     "output_type": "display_data"
    }
   ],
   "source": [
    "df_iptu['SQLC-lote'] = df_iptu['NUMERO DO CONTRIBUINTE'].str[0:6] + \\\n",
    "df_iptu['lote'] + \\\n",
    "df_iptu['NUMERO DO CONDOMINIO'].str[0:2]"
   ]
  },
  {
   "cell_type": "code",
   "execution_count": 8,
   "metadata": {},
   "outputs": [
    {
     "data": {
      "text/html": [
       "<pre>✔️ 1.22 s (2021-06-28T13:43:14/2021-06-28T13:43:15)</pre>"
      ],
      "text/plain": [
       "<IPython.core.display.HTML object>"
      ]
     },
     "metadata": {},
     "output_type": "display_data"
    },
    {
     "data": {
      "text/html": [
       "<div>\n",
       "<style scoped>\n",
       "    .dataframe tbody tr th:only-of-type {\n",
       "        vertical-align: middle;\n",
       "    }\n",
       "\n",
       "    .dataframe tbody tr th {\n",
       "        vertical-align: top;\n",
       "    }\n",
       "\n",
       "    .dataframe thead th {\n",
       "        text-align: right;\n",
       "    }\n",
       "</style>\n",
       "<table border=\"1\" class=\"dataframe\">\n",
       "  <thead>\n",
       "    <tr style=\"text-align: right;\">\n",
       "      <th></th>\n",
       "      <th>SQLC</th>\n",
       "      <th>SQLC-lote</th>\n",
       "    </tr>\n",
       "  </thead>\n",
       "  <tbody>\n",
       "    <tr>\n",
       "      <th>0</th>\n",
       "      <td>001003000100</td>\n",
       "      <td>001003000100</td>\n",
       "    </tr>\n",
       "    <tr>\n",
       "      <th>1</th>\n",
       "      <td>001003000200</td>\n",
       "      <td>001003000200</td>\n",
       "    </tr>\n",
       "    <tr>\n",
       "      <th>2</th>\n",
       "      <td>001003000300</td>\n",
       "      <td>001003000300</td>\n",
       "    </tr>\n",
       "    <tr>\n",
       "      <th>3</th>\n",
       "      <td>001003000400</td>\n",
       "      <td>001003000400</td>\n",
       "    </tr>\n",
       "    <tr>\n",
       "      <th>4</th>\n",
       "      <td>001003000500</td>\n",
       "      <td>001003000500</td>\n",
       "    </tr>\n",
       "    <tr>\n",
       "      <th>...</th>\n",
       "      <td>...</td>\n",
       "      <td>...</td>\n",
       "    </tr>\n",
       "    <tr>\n",
       "      <th>3498639</th>\n",
       "      <td>310118023801</td>\n",
       "      <td>310118000001</td>\n",
       "    </tr>\n",
       "    <tr>\n",
       "      <th>3498640</th>\n",
       "      <td>310118023901</td>\n",
       "      <td>310118000001</td>\n",
       "    </tr>\n",
       "    <tr>\n",
       "      <th>3498641</th>\n",
       "      <td>310118024001</td>\n",
       "      <td>310118000001</td>\n",
       "    </tr>\n",
       "    <tr>\n",
       "      <th>3498642</th>\n",
       "      <td>310119000100</td>\n",
       "      <td>310119000100</td>\n",
       "    </tr>\n",
       "    <tr>\n",
       "      <th>3498643</th>\n",
       "      <td>310120000100</td>\n",
       "      <td>310120000100</td>\n",
       "    </tr>\n",
       "  </tbody>\n",
       "</table>\n",
       "<p>3498644 rows × 2 columns</p>\n",
       "</div>"
      ],
      "text/plain": [
       "                 SQLC     SQLC-lote\n",
       "0        001003000100  001003000100\n",
       "1        001003000200  001003000200\n",
       "2        001003000300  001003000300\n",
       "3        001003000400  001003000400\n",
       "4        001003000500  001003000500\n",
       "...               ...           ...\n",
       "3498639  310118023801  310118000001\n",
       "3498640  310118023901  310118000001\n",
       "3498641  310118024001  310118000001\n",
       "3498642  310119000100  310119000100\n",
       "3498643  310120000100  310120000100\n",
       "\n",
       "[3498644 rows x 2 columns]"
      ]
     },
     "execution_count": 8,
     "metadata": {},
     "output_type": "execute_result"
    }
   ],
   "source": [
    "df_iptu[['SQLC','SQLC-lote']]"
   ]
  },
  {
   "cell_type": "code",
   "execution_count": 29,
   "metadata": {},
   "outputs": [
    {
     "data": {
      "text/html": [
       "<pre>✔️ 992 µs (2021-06-28T13:47:26/2021-06-28T13:47:26)</pre>"
      ],
      "text/plain": [
       "<IPython.core.display.HTML object>"
      ]
     },
     "metadata": {},
     "output_type": "display_data"
    }
   ],
   "source": [
    "campos = ['SQLC',\n",
    "          'SQLC-lote',\n",
    "         'NOME DE LOGRADOURO DO IMOVEL', \n",
    "         'NUMERO DO IMOVEL',\n",
    "         'COMPLEMENTO DO IMOVEL',\n",
    "         'CEP DO IMOVEL',\n",
    "         'TIPO DE USO DO IMOVEL']"
   ]
  },
  {
   "cell_type": "code",
   "execution_count": 30,
   "metadata": {
    "scrolled": true
   },
   "outputs": [
    {
     "data": {
      "text/html": [
       "<pre>✔️ 1.71 s (2021-06-28T13:47:27/2021-06-28T13:47:29)</pre>"
      ],
      "text/plain": [
       "<IPython.core.display.HTML object>"
      ]
     },
     "metadata": {},
     "output_type": "display_data"
    }
   ],
   "source": [
    "# df_iptu['NUMERO DO IMOVEL'] = df_iptu['NUMERO DO IMOVEL'][df_iptu['NUMERO DO IMOVEL'].notna()].astype(int)\n",
    "df_iptu.loc[df_iptu['NUMERO DO IMOVEL'].isna(), 'NUMERO DO IMOVEL'] = 0\n",
    "df_iptu = df_iptu.astype({'NUMERO DO IMOVEL':'int32'})\n",
    "# df_iptu['numero_de_porta'] = df_iptu['NUMERO DO IMOVEL'][df_iptu['NUMERO DO IMOVEL'].notna()].astype('int32')"
   ]
  },
  {
   "cell_type": "code",
   "execution_count": 31,
   "metadata": {},
   "outputs": [
    {
     "data": {
      "text/html": [
       "<pre>✔️ 1.16 s (2021-06-28T13:47:29/2021-06-28T13:47:30)</pre>"
      ],
      "text/plain": [
       "<IPython.core.display.HTML object>"
      ]
     },
     "metadata": {},
     "output_type": "display_data"
    }
   ],
   "source": [
    "df_iptu['NOME DE LOGRADOURO DO IMOVEL'] = df_iptu['NOME DE LOGRADOURO DO IMOVEL'].str.title()"
   ]
  },
  {
   "cell_type": "code",
   "execution_count": 32,
   "metadata": {},
   "outputs": [
    {
     "data": {
      "text/html": [
       "<pre>✔️ 813 ms (2021-06-28T13:47:30/2021-06-28T13:47:31)</pre>"
      ],
      "text/plain": [
       "<IPython.core.display.HTML object>"
      ]
     },
     "metadata": {},
     "output_type": "display_data"
    }
   ],
   "source": [
    "df_iptu['COMPLEMENTO DO IMOVEL'] = df_iptu['COMPLEMENTO DO IMOVEL'].str.title()"
   ]
  },
  {
   "cell_type": "code",
   "execution_count": 33,
   "metadata": {},
   "outputs": [
    {
     "data": {
      "text/html": [
       "<pre>✔️ 1.18 s (2021-06-28T13:47:31/2021-06-28T13:47:32)</pre>"
      ],
      "text/plain": [
       "<IPython.core.display.HTML object>"
      ]
     },
     "metadata": {},
     "output_type": "display_data"
    }
   ],
   "source": [
    "df_coords = pd.read_csv('resultados/lotes-por-pontos.csv', dtype={'SQLC-lote': object})"
   ]
  },
  {
   "cell_type": "code",
   "execution_count": 34,
   "metadata": {},
   "outputs": [
    {
     "data": {
      "text/html": [
       "<pre>✔️ 4.15 ms (2021-06-28T13:47:32/2021-06-28T13:47:32)</pre>"
      ],
      "text/plain": [
       "<IPython.core.display.HTML object>"
      ]
     },
     "metadata": {},
     "output_type": "display_data"
    }
   ],
   "source": [
    "df_coords['X'] = df_coords.x\n",
    "df_coords['Y'] = df_coords.y"
   ]
  },
  {
   "cell_type": "code",
   "execution_count": 35,
   "metadata": {},
   "outputs": [
    {
     "data": {
      "text/html": [
       "<pre>✔️ 3.2 ms (2021-06-28T13:47:32/2021-06-28T13:47:32)</pre>"
      ],
      "text/plain": [
       "<IPython.core.display.HTML object>"
      ]
     },
     "metadata": {},
     "output_type": "display_data"
    },
    {
     "data": {
      "text/plain": [
       "SQLC-lote     object\n",
       "x            float64\n",
       "y            float64\n",
       "X            float64\n",
       "Y            float64\n",
       "dtype: object"
      ]
     },
     "execution_count": 35,
     "metadata": {},
     "output_type": "execute_result"
    }
   ],
   "source": [
    "df_coords.dtypes"
   ]
  },
  {
   "cell_type": "code",
   "execution_count": 36,
   "metadata": {},
   "outputs": [
    {
     "data": {
      "text/html": [
       "<pre>✔️ 938 µs (2021-06-28T13:47:32/2021-06-28T13:47:32)</pre>"
      ],
      "text/plain": [
       "<IPython.core.display.HTML object>"
      ]
     },
     "metadata": {},
     "output_type": "display_data"
    }
   ],
   "source": [
    "# df_iptu.dtypes"
   ]
  },
  {
   "cell_type": "code",
   "execution_count": 37,
   "metadata": {},
   "outputs": [
    {
     "data": {
      "text/html": [
       "<pre>✔️ 2.6 s (2021-06-28T13:47:32/2021-06-28T13:47:35)</pre>"
      ],
      "text/plain": [
       "<IPython.core.display.HTML object>"
      ]
     },
     "metadata": {},
     "output_type": "display_data"
    }
   ],
   "source": [
    "df_enderecos = df_iptu[campos].merge(df_coords, on='SQLC-lote', how='left')"
   ]
  },
  {
   "cell_type": "code",
   "execution_count": 38,
   "metadata": {},
   "outputs": [
    {
     "data": {
      "text/html": [
       "<pre>✔️ 14.9 ms (2021-06-28T13:47:35/2021-06-28T13:47:35)</pre>"
      ],
      "text/plain": [
       "<IPython.core.display.HTML object>"
      ]
     },
     "metadata": {},
     "output_type": "display_data"
    },
    {
     "data": {
      "text/html": [
       "<div>\n",
       "<style scoped>\n",
       "    .dataframe tbody tr th:only-of-type {\n",
       "        vertical-align: middle;\n",
       "    }\n",
       "\n",
       "    .dataframe tbody tr th {\n",
       "        vertical-align: top;\n",
       "    }\n",
       "\n",
       "    .dataframe thead th {\n",
       "        text-align: right;\n",
       "    }\n",
       "</style>\n",
       "<table border=\"1\" class=\"dataframe\">\n",
       "  <thead>\n",
       "    <tr style=\"text-align: right;\">\n",
       "      <th></th>\n",
       "      <th>SQLC</th>\n",
       "      <th>SQLC-lote</th>\n",
       "      <th>NOME DE LOGRADOURO DO IMOVEL</th>\n",
       "      <th>NUMERO DO IMOVEL</th>\n",
       "      <th>COMPLEMENTO DO IMOVEL</th>\n",
       "      <th>CEP DO IMOVEL</th>\n",
       "      <th>TIPO DE USO DO IMOVEL</th>\n",
       "      <th>x</th>\n",
       "      <th>y</th>\n",
       "      <th>X</th>\n",
       "      <th>Y</th>\n",
       "    </tr>\n",
       "  </thead>\n",
       "  <tbody>\n",
       "    <tr>\n",
       "      <th>0</th>\n",
       "      <td>001003000100</td>\n",
       "      <td>001003000100</td>\n",
       "      <td>R S Caetano</td>\n",
       "      <td>13</td>\n",
       "      <td>NaN</td>\n",
       "      <td>01104-001</td>\n",
       "      <td>Loja</td>\n",
       "      <td>-46.632863</td>\n",
       "      <td>-23.534357</td>\n",
       "      <td>-46.632863</td>\n",
       "      <td>-23.534357</td>\n",
       "    </tr>\n",
       "    <tr>\n",
       "      <th>1</th>\n",
       "      <td>001003000200</td>\n",
       "      <td>001003000200</td>\n",
       "      <td>R S Caetano</td>\n",
       "      <td>19</td>\n",
       "      <td>NaN</td>\n",
       "      <td>01104-001</td>\n",
       "      <td>Loja</td>\n",
       "      <td>-46.632790</td>\n",
       "      <td>-23.534376</td>\n",
       "      <td>-46.632790</td>\n",
       "      <td>-23.534376</td>\n",
       "    </tr>\n",
       "    <tr>\n",
       "      <th>2</th>\n",
       "      <td>001003000300</td>\n",
       "      <td>001003000300</td>\n",
       "      <td>R S Caetano</td>\n",
       "      <td>27</td>\n",
       "      <td>NaN</td>\n",
       "      <td>01104-001</td>\n",
       "      <td>Loja</td>\n",
       "      <td>-46.632722</td>\n",
       "      <td>-23.534379</td>\n",
       "      <td>-46.632722</td>\n",
       "      <td>-23.534379</td>\n",
       "    </tr>\n",
       "    <tr>\n",
       "      <th>3</th>\n",
       "      <td>001003000400</td>\n",
       "      <td>001003000400</td>\n",
       "      <td>R S Caetano</td>\n",
       "      <td>33</td>\n",
       "      <td>NaN</td>\n",
       "      <td>01104-001</td>\n",
       "      <td>Loja</td>\n",
       "      <td>-46.632657</td>\n",
       "      <td>-23.534385</td>\n",
       "      <td>-46.632657</td>\n",
       "      <td>-23.534385</td>\n",
       "    </tr>\n",
       "    <tr>\n",
       "      <th>4</th>\n",
       "      <td>001003000500</td>\n",
       "      <td>001003000500</td>\n",
       "      <td>R S Caetano</td>\n",
       "      <td>39</td>\n",
       "      <td>NaN</td>\n",
       "      <td>01104-001</td>\n",
       "      <td>Loja</td>\n",
       "      <td>-46.632585</td>\n",
       "      <td>-23.534343</td>\n",
       "      <td>-46.632585</td>\n",
       "      <td>-23.534343</td>\n",
       "    </tr>\n",
       "    <tr>\n",
       "      <th>...</th>\n",
       "      <td>...</td>\n",
       "      <td>...</td>\n",
       "      <td>...</td>\n",
       "      <td>...</td>\n",
       "      <td>...</td>\n",
       "      <td>...</td>\n",
       "      <td>...</td>\n",
       "      <td>...</td>\n",
       "      <td>...</td>\n",
       "      <td>...</td>\n",
       "      <td>...</td>\n",
       "    </tr>\n",
       "    <tr>\n",
       "      <th>3503968</th>\n",
       "      <td>310118023801</td>\n",
       "      <td>310118000001</td>\n",
       "      <td>Av Eng Armando De Arruda Pereira</td>\n",
       "      <td>1827</td>\n",
       "      <td>Ap 42</td>\n",
       "      <td>04309-011</td>\n",
       "      <td>Apartamento em condomínio</td>\n",
       "      <td>-46.640787</td>\n",
       "      <td>-23.642935</td>\n",
       "      <td>-46.640787</td>\n",
       "      <td>-23.642935</td>\n",
       "    </tr>\n",
       "    <tr>\n",
       "      <th>3503969</th>\n",
       "      <td>310118023901</td>\n",
       "      <td>310118000001</td>\n",
       "      <td>Av Eng Armando De Arruda Pereira</td>\n",
       "      <td>1827</td>\n",
       "      <td>Ap 43</td>\n",
       "      <td>04309-011</td>\n",
       "      <td>Apartamento em condomínio</td>\n",
       "      <td>-46.640787</td>\n",
       "      <td>-23.642935</td>\n",
       "      <td>-46.640787</td>\n",
       "      <td>-23.642935</td>\n",
       "    </tr>\n",
       "    <tr>\n",
       "      <th>3503970</th>\n",
       "      <td>310118024001</td>\n",
       "      <td>310118000001</td>\n",
       "      <td>Av Eng Armando De Arruda Pereira</td>\n",
       "      <td>1827</td>\n",
       "      <td>Ap 44</td>\n",
       "      <td>04309-011</td>\n",
       "      <td>Apartamento em condomínio</td>\n",
       "      <td>-46.640787</td>\n",
       "      <td>-23.642935</td>\n",
       "      <td>-46.640787</td>\n",
       "      <td>-23.642935</td>\n",
       "    </tr>\n",
       "    <tr>\n",
       "      <th>3503971</th>\n",
       "      <td>310119000100</td>\n",
       "      <td>310119000100</td>\n",
       "      <td>R  Cotipora</td>\n",
       "      <td>0</td>\n",
       "      <td>NaN</td>\n",
       "      <td>04317-060</td>\n",
       "      <td>Terreno</td>\n",
       "      <td>-46.631329</td>\n",
       "      <td>-23.644451</td>\n",
       "      <td>-46.631329</td>\n",
       "      <td>-23.644451</td>\n",
       "    </tr>\n",
       "    <tr>\n",
       "      <th>3503972</th>\n",
       "      <td>310120000100</td>\n",
       "      <td>310120000100</td>\n",
       "      <td>R  Ambores</td>\n",
       "      <td>0</td>\n",
       "      <td>NaN</td>\n",
       "      <td>04319-110</td>\n",
       "      <td>Terreno</td>\n",
       "      <td>NaN</td>\n",
       "      <td>NaN</td>\n",
       "      <td>NaN</td>\n",
       "      <td>NaN</td>\n",
       "    </tr>\n",
       "  </tbody>\n",
       "</table>\n",
       "<p>3503973 rows × 11 columns</p>\n",
       "</div>"
      ],
      "text/plain": [
       "                 SQLC     SQLC-lote      NOME DE LOGRADOURO DO IMOVEL  \\\n",
       "0        001003000100  001003000100                       R S Caetano   \n",
       "1        001003000200  001003000200                       R S Caetano   \n",
       "2        001003000300  001003000300                       R S Caetano   \n",
       "3        001003000400  001003000400                       R S Caetano   \n",
       "4        001003000500  001003000500                       R S Caetano   \n",
       "...               ...           ...                               ...   \n",
       "3503968  310118023801  310118000001  Av Eng Armando De Arruda Pereira   \n",
       "3503969  310118023901  310118000001  Av Eng Armando De Arruda Pereira   \n",
       "3503970  310118024001  310118000001  Av Eng Armando De Arruda Pereira   \n",
       "3503971  310119000100  310119000100                       R  Cotipora   \n",
       "3503972  310120000100  310120000100                        R  Ambores   \n",
       "\n",
       "         NUMERO DO IMOVEL COMPLEMENTO DO IMOVEL CEP DO IMOVEL  \\\n",
       "0                      13                   NaN     01104-001   \n",
       "1                      19                   NaN     01104-001   \n",
       "2                      27                   NaN     01104-001   \n",
       "3                      33                   NaN     01104-001   \n",
       "4                      39                   NaN     01104-001   \n",
       "...                   ...                   ...           ...   \n",
       "3503968              1827                 Ap 42     04309-011   \n",
       "3503969              1827                 Ap 43     04309-011   \n",
       "3503970              1827                 Ap 44     04309-011   \n",
       "3503971                 0                   NaN     04317-060   \n",
       "3503972                 0                   NaN     04319-110   \n",
       "\n",
       "             TIPO DE USO DO IMOVEL          x          y          X          Y  \n",
       "0                             Loja -46.632863 -23.534357 -46.632863 -23.534357  \n",
       "1                             Loja -46.632790 -23.534376 -46.632790 -23.534376  \n",
       "2                             Loja -46.632722 -23.534379 -46.632722 -23.534379  \n",
       "3                             Loja -46.632657 -23.534385 -46.632657 -23.534385  \n",
       "4                             Loja -46.632585 -23.534343 -46.632585 -23.534343  \n",
       "...                            ...        ...        ...        ...        ...  \n",
       "3503968  Apartamento em condomínio -46.640787 -23.642935 -46.640787 -23.642935  \n",
       "3503969  Apartamento em condomínio -46.640787 -23.642935 -46.640787 -23.642935  \n",
       "3503970  Apartamento em condomínio -46.640787 -23.642935 -46.640787 -23.642935  \n",
       "3503971                    Terreno -46.631329 -23.644451 -46.631329 -23.644451  \n",
       "3503972                    Terreno        NaN        NaN        NaN        NaN  \n",
       "\n",
       "[3503973 rows x 11 columns]"
      ]
     },
     "execution_count": 38,
     "metadata": {},
     "output_type": "execute_result"
    }
   ],
   "source": [
    "df_enderecos"
   ]
  },
  {
   "cell_type": "code",
   "execution_count": 39,
   "metadata": {
    "scrolled": true
   },
   "outputs": [
    {
     "data": {
      "text/html": [
       "<pre>✔️ 576 ms (2021-06-28T13:47:35/2021-06-28T13:47:36)</pre>"
      ],
      "text/plain": [
       "<IPython.core.display.HTML object>"
      ]
     },
     "metadata": {},
     "output_type": "display_data"
    },
    {
     "data": {
      "text/html": [
       "<div>\n",
       "<style scoped>\n",
       "    .dataframe tbody tr th:only-of-type {\n",
       "        vertical-align: middle;\n",
       "    }\n",
       "\n",
       "    .dataframe tbody tr th {\n",
       "        vertical-align: top;\n",
       "    }\n",
       "\n",
       "    .dataframe thead th {\n",
       "        text-align: right;\n",
       "    }\n",
       "</style>\n",
       "<table border=\"1\" class=\"dataframe\">\n",
       "  <thead>\n",
       "    <tr style=\"text-align: right;\">\n",
       "      <th></th>\n",
       "      <th>SQLC</th>\n",
       "      <th>SQLC-lote</th>\n",
       "      <th>NOME DE LOGRADOURO DO IMOVEL</th>\n",
       "      <th>NUMERO DO IMOVEL</th>\n",
       "      <th>COMPLEMENTO DO IMOVEL</th>\n",
       "      <th>CEP DO IMOVEL</th>\n",
       "      <th>TIPO DE USO DO IMOVEL</th>\n",
       "      <th>x</th>\n",
       "      <th>y</th>\n",
       "      <th>X</th>\n",
       "      <th>Y</th>\n",
       "    </tr>\n",
       "  </thead>\n",
       "  <tbody>\n",
       "    <tr>\n",
       "      <th>1539</th>\n",
       "      <td>001013003400</td>\n",
       "      <td>001013003400</td>\n",
       "      <td>R  Possidonio Inacio</td>\n",
       "      <td>34</td>\n",
       "      <td>38 E 44</td>\n",
       "      <td>01103-030</td>\n",
       "      <td>Prédio de apartamento, não em condomínio, de u...</td>\n",
       "      <td>NaN</td>\n",
       "      <td>NaN</td>\n",
       "      <td>NaN</td>\n",
       "      <td>NaN</td>\n",
       "    </tr>\n",
       "    <tr>\n",
       "      <th>11661</th>\n",
       "      <td>001049067100</td>\n",
       "      <td>001049067100</td>\n",
       "      <td>R  Florencio De Abreu</td>\n",
       "      <td>333</td>\n",
       "      <td>337</td>\n",
       "      <td>01029-000</td>\n",
       "      <td>Loja</td>\n",
       "      <td>NaN</td>\n",
       "      <td>NaN</td>\n",
       "      <td>NaN</td>\n",
       "      <td>NaN</td>\n",
       "    </tr>\n",
       "    <tr>\n",
       "      <th>11662</th>\n",
       "      <td>001049067200</td>\n",
       "      <td>001049067200</td>\n",
       "      <td>R  Florencio De Abreu</td>\n",
       "      <td>343</td>\n",
       "      <td>NaN</td>\n",
       "      <td>01029-000</td>\n",
       "      <td>Loja</td>\n",
       "      <td>NaN</td>\n",
       "      <td>NaN</td>\n",
       "      <td>NaN</td>\n",
       "      <td>NaN</td>\n",
       "    </tr>\n",
       "    <tr>\n",
       "      <th>11663</th>\n",
       "      <td>001049067300</td>\n",
       "      <td>001049067300</td>\n",
       "      <td>R  Florencio De Abreu</td>\n",
       "      <td>353</td>\n",
       "      <td>355</td>\n",
       "      <td>01029-000</td>\n",
       "      <td>Loja</td>\n",
       "      <td>NaN</td>\n",
       "      <td>NaN</td>\n",
       "      <td>NaN</td>\n",
       "      <td>NaN</td>\n",
       "    </tr>\n",
       "    <tr>\n",
       "      <th>11664</th>\n",
       "      <td>001049067400</td>\n",
       "      <td>001049067400</td>\n",
       "      <td>R  Carlos De Sousa Nazare</td>\n",
       "      <td>54</td>\n",
       "      <td>NaN</td>\n",
       "      <td>01025-000</td>\n",
       "      <td>Loja</td>\n",
       "      <td>NaN</td>\n",
       "      <td>NaN</td>\n",
       "      <td>NaN</td>\n",
       "      <td>NaN</td>\n",
       "    </tr>\n",
       "    <tr>\n",
       "      <th>...</th>\n",
       "      <td>...</td>\n",
       "      <td>...</td>\n",
       "      <td>...</td>\n",
       "      <td>...</td>\n",
       "      <td>...</td>\n",
       "      <td>...</td>\n",
       "      <td>...</td>\n",
       "      <td>...</td>\n",
       "      <td>...</td>\n",
       "      <td>...</td>\n",
       "      <td>...</td>\n",
       "    </tr>\n",
       "    <tr>\n",
       "      <th>3503303</th>\n",
       "      <td>310110003900</td>\n",
       "      <td>310110003900</td>\n",
       "      <td>R S Borja</td>\n",
       "      <td>98</td>\n",
       "      <td>10 A Qd 3</td>\n",
       "      <td>04320-060</td>\n",
       "      <td>Residência</td>\n",
       "      <td>NaN</td>\n",
       "      <td>NaN</td>\n",
       "      <td>NaN</td>\n",
       "      <td>NaN</td>\n",
       "    </tr>\n",
       "    <tr>\n",
       "      <th>3503304</th>\n",
       "      <td>310110004000</td>\n",
       "      <td>310110004000</td>\n",
       "      <td>R  Jose De Alcantara</td>\n",
       "      <td>91</td>\n",
       "      <td>NaN</td>\n",
       "      <td>04324-000</td>\n",
       "      <td>Residência</td>\n",
       "      <td>NaN</td>\n",
       "      <td>NaN</td>\n",
       "      <td>NaN</td>\n",
       "      <td>NaN</td>\n",
       "    </tr>\n",
       "    <tr>\n",
       "      <th>3503305</th>\n",
       "      <td>310110004100</td>\n",
       "      <td>310110004100</td>\n",
       "      <td>R S Borja</td>\n",
       "      <td>158</td>\n",
       "      <td>NaN</td>\n",
       "      <td>04320-060</td>\n",
       "      <td>Residência</td>\n",
       "      <td>NaN</td>\n",
       "      <td>NaN</td>\n",
       "      <td>NaN</td>\n",
       "      <td>NaN</td>\n",
       "    </tr>\n",
       "    <tr>\n",
       "      <th>3503306</th>\n",
       "      <td>310110004200</td>\n",
       "      <td>310110004200</td>\n",
       "      <td>R  Jose De Alcantara</td>\n",
       "      <td>159</td>\n",
       "      <td>NaN</td>\n",
       "      <td>04324-000</td>\n",
       "      <td>Residência</td>\n",
       "      <td>NaN</td>\n",
       "      <td>NaN</td>\n",
       "      <td>NaN</td>\n",
       "      <td>NaN</td>\n",
       "    </tr>\n",
       "    <tr>\n",
       "      <th>3503972</th>\n",
       "      <td>310120000100</td>\n",
       "      <td>310120000100</td>\n",
       "      <td>R  Ambores</td>\n",
       "      <td>0</td>\n",
       "      <td>NaN</td>\n",
       "      <td>04319-110</td>\n",
       "      <td>Terreno</td>\n",
       "      <td>NaN</td>\n",
       "      <td>NaN</td>\n",
       "      <td>NaN</td>\n",
       "      <td>NaN</td>\n",
       "    </tr>\n",
       "  </tbody>\n",
       "</table>\n",
       "<p>76089 rows × 11 columns</p>\n",
       "</div>"
      ],
      "text/plain": [
       "                 SQLC     SQLC-lote NOME DE LOGRADOURO DO IMOVEL  \\\n",
       "1539     001013003400  001013003400         R  Possidonio Inacio   \n",
       "11661    001049067100  001049067100        R  Florencio De Abreu   \n",
       "11662    001049067200  001049067200        R  Florencio De Abreu   \n",
       "11663    001049067300  001049067300        R  Florencio De Abreu   \n",
       "11664    001049067400  001049067400    R  Carlos De Sousa Nazare   \n",
       "...               ...           ...                          ...   \n",
       "3503303  310110003900  310110003900                    R S Borja   \n",
       "3503304  310110004000  310110004000         R  Jose De Alcantara   \n",
       "3503305  310110004100  310110004100                    R S Borja   \n",
       "3503306  310110004200  310110004200         R  Jose De Alcantara   \n",
       "3503972  310120000100  310120000100                   R  Ambores   \n",
       "\n",
       "         NUMERO DO IMOVEL COMPLEMENTO DO IMOVEL CEP DO IMOVEL  \\\n",
       "1539                   34               38 E 44     01103-030   \n",
       "11661                 333                   337     01029-000   \n",
       "11662                 343                   NaN     01029-000   \n",
       "11663                 353                   355     01029-000   \n",
       "11664                  54                   NaN     01025-000   \n",
       "...                   ...                   ...           ...   \n",
       "3503303                98             10 A Qd 3     04320-060   \n",
       "3503304                91                   NaN     04324-000   \n",
       "3503305               158                   NaN     04320-060   \n",
       "3503306               159                   NaN     04324-000   \n",
       "3503972                 0                   NaN     04319-110   \n",
       "\n",
       "                                     TIPO DE USO DO IMOVEL   x   y   X   Y  \n",
       "1539     Prédio de apartamento, não em condomínio, de u... NaN NaN NaN NaN  \n",
       "11661                                                 Loja NaN NaN NaN NaN  \n",
       "11662                                                 Loja NaN NaN NaN NaN  \n",
       "11663                                                 Loja NaN NaN NaN NaN  \n",
       "11664                                                 Loja NaN NaN NaN NaN  \n",
       "...                                                    ...  ..  ..  ..  ..  \n",
       "3503303                                         Residência NaN NaN NaN NaN  \n",
       "3503304                                         Residência NaN NaN NaN NaN  \n",
       "3503305                                         Residência NaN NaN NaN NaN  \n",
       "3503306                                         Residência NaN NaN NaN NaN  \n",
       "3503972                                            Terreno NaN NaN NaN NaN  \n",
       "\n",
       "[76089 rows x 11 columns]"
      ]
     },
     "execution_count": 39,
     "metadata": {},
     "output_type": "execute_result"
    }
   ],
   "source": [
    "df_enderecos[df_enderecos.X.isna()]"
   ]
  },
  {
   "cell_type": "code",
   "execution_count": 40,
   "metadata": {},
   "outputs": [
    {
     "data": {
      "text/html": [
       "<pre>✔️ 973 µs (2021-06-28T13:47:36/2021-06-28T13:47:36)</pre>"
      ],
      "text/plain": [
       "<IPython.core.display.HTML object>"
      ]
     },
     "metadata": {},
     "output_type": "display_data"
    }
   ],
   "source": [
    "campos_exportacao = \\\n",
    "        ['SQLC',\n",
    "         'X', 'Y', \n",
    "         'NOME DE LOGRADOURO DO IMOVEL', \n",
    "         'NUMERO DO IMOVEL',\n",
    "         'COMPLEMENTO DO IMOVEL',\n",
    "         'CEP DO IMOVEL',\n",
    "         'TIPO DE USO DO IMOVEL']"
   ]
  },
  {
   "cell_type": "code",
   "execution_count": 41,
   "metadata": {},
   "outputs": [
    {
     "data": {
      "text/html": [
       "<pre>✔️ 846 µs (2021-06-28T13:47:36/2021-06-28T13:47:36)</pre>"
      ],
      "text/plain": [
       "<IPython.core.display.HTML object>"
      ]
     },
     "metadata": {},
     "output_type": "display_data"
    }
   ],
   "source": [
    "campos_renomear = \\\n",
    "        {'SQLC': 'name',\n",
    "         'X': 'lon', 'Y': 'lat', \n",
    "         'NOME DE LOGRADOURO DO IMOVEL': 'street', \n",
    "         'NUMERO DO IMOVEL': 'number',\n",
    "         'COMPLEMENTO DO IMOVEL': 'housenumber',\n",
    "         'CEP DO IMOVEL': 'postcode'}"
   ]
  },
  {
   "cell_type": "code",
   "execution_count": 42,
   "metadata": {},
   "outputs": [
    {
     "data": {
      "text/html": [
       "<pre>✔️ 1.57 ms (2021-06-28T13:47:36/2021-06-28T13:47:36)</pre>"
      ],
      "text/plain": [
       "<IPython.core.display.HTML object>"
      ]
     },
     "metadata": {},
     "output_type": "display_data"
    }
   ],
   "source": [
    "df_enderecos.rename(columns=campos_renomear, inplace=True)"
   ]
  },
  {
   "cell_type": "code",
   "execution_count": 43,
   "metadata": {
    "scrolled": true
   },
   "outputs": [
    {
     "data": {
      "text/html": [
       "<pre>✔️ 32.9 ms (2021-06-28T13:47:46/2021-06-28T13:47:46)</pre>"
      ],
      "text/plain": [
       "<IPython.core.display.HTML object>"
      ]
     },
     "metadata": {},
     "output_type": "display_data"
    },
    {
     "data": {
      "text/html": [
       "<div>\n",
       "<style scoped>\n",
       "    .dataframe tbody tr th:only-of-type {\n",
       "        vertical-align: middle;\n",
       "    }\n",
       "\n",
       "    .dataframe tbody tr th {\n",
       "        vertical-align: top;\n",
       "    }\n",
       "\n",
       "    .dataframe thead th {\n",
       "        text-align: right;\n",
       "    }\n",
       "</style>\n",
       "<table border=\"1\" class=\"dataframe\">\n",
       "  <thead>\n",
       "    <tr style=\"text-align: right;\">\n",
       "      <th></th>\n",
       "      <th>name</th>\n",
       "      <th>SQLC-lote</th>\n",
       "      <th>street</th>\n",
       "      <th>number</th>\n",
       "      <th>housenumber</th>\n",
       "      <th>postcode</th>\n",
       "      <th>TIPO DE USO DO IMOVEL</th>\n",
       "      <th>x</th>\n",
       "      <th>y</th>\n",
       "      <th>lon</th>\n",
       "      <th>lat</th>\n",
       "    </tr>\n",
       "  </thead>\n",
       "  <tbody>\n",
       "    <tr>\n",
       "      <th>0</th>\n",
       "      <td>001003000100</td>\n",
       "      <td>001003000100</td>\n",
       "      <td>R S Caetano</td>\n",
       "      <td>13</td>\n",
       "      <td>NaN</td>\n",
       "      <td>01104-001</td>\n",
       "      <td>Loja</td>\n",
       "      <td>-46.632863</td>\n",
       "      <td>-23.534357</td>\n",
       "      <td>-46.632863</td>\n",
       "      <td>-23.534357</td>\n",
       "    </tr>\n",
       "    <tr>\n",
       "      <th>1</th>\n",
       "      <td>001003000200</td>\n",
       "      <td>001003000200</td>\n",
       "      <td>R S Caetano</td>\n",
       "      <td>19</td>\n",
       "      <td>NaN</td>\n",
       "      <td>01104-001</td>\n",
       "      <td>Loja</td>\n",
       "      <td>-46.632790</td>\n",
       "      <td>-23.534376</td>\n",
       "      <td>-46.632790</td>\n",
       "      <td>-23.534376</td>\n",
       "    </tr>\n",
       "    <tr>\n",
       "      <th>2</th>\n",
       "      <td>001003000300</td>\n",
       "      <td>001003000300</td>\n",
       "      <td>R S Caetano</td>\n",
       "      <td>27</td>\n",
       "      <td>NaN</td>\n",
       "      <td>01104-001</td>\n",
       "      <td>Loja</td>\n",
       "      <td>-46.632722</td>\n",
       "      <td>-23.534379</td>\n",
       "      <td>-46.632722</td>\n",
       "      <td>-23.534379</td>\n",
       "    </tr>\n",
       "    <tr>\n",
       "      <th>3</th>\n",
       "      <td>001003000400</td>\n",
       "      <td>001003000400</td>\n",
       "      <td>R S Caetano</td>\n",
       "      <td>33</td>\n",
       "      <td>NaN</td>\n",
       "      <td>01104-001</td>\n",
       "      <td>Loja</td>\n",
       "      <td>-46.632657</td>\n",
       "      <td>-23.534385</td>\n",
       "      <td>-46.632657</td>\n",
       "      <td>-23.534385</td>\n",
       "    </tr>\n",
       "    <tr>\n",
       "      <th>4</th>\n",
       "      <td>001003000500</td>\n",
       "      <td>001003000500</td>\n",
       "      <td>R S Caetano</td>\n",
       "      <td>39</td>\n",
       "      <td>NaN</td>\n",
       "      <td>01104-001</td>\n",
       "      <td>Loja</td>\n",
       "      <td>-46.632585</td>\n",
       "      <td>-23.534343</td>\n",
       "      <td>-46.632585</td>\n",
       "      <td>-23.534343</td>\n",
       "    </tr>\n",
       "    <tr>\n",
       "      <th>...</th>\n",
       "      <td>...</td>\n",
       "      <td>...</td>\n",
       "      <td>...</td>\n",
       "      <td>...</td>\n",
       "      <td>...</td>\n",
       "      <td>...</td>\n",
       "      <td>...</td>\n",
       "      <td>...</td>\n",
       "      <td>...</td>\n",
       "      <td>...</td>\n",
       "      <td>...</td>\n",
       "    </tr>\n",
       "    <tr>\n",
       "      <th>3503968</th>\n",
       "      <td>310118023801</td>\n",
       "      <td>310118000001</td>\n",
       "      <td>Av Eng Armando De Arruda Pereira</td>\n",
       "      <td>1827</td>\n",
       "      <td>Ap 42</td>\n",
       "      <td>04309-011</td>\n",
       "      <td>Apartamento em condomínio</td>\n",
       "      <td>-46.640787</td>\n",
       "      <td>-23.642935</td>\n",
       "      <td>-46.640787</td>\n",
       "      <td>-23.642935</td>\n",
       "    </tr>\n",
       "    <tr>\n",
       "      <th>3503969</th>\n",
       "      <td>310118023901</td>\n",
       "      <td>310118000001</td>\n",
       "      <td>Av Eng Armando De Arruda Pereira</td>\n",
       "      <td>1827</td>\n",
       "      <td>Ap 43</td>\n",
       "      <td>04309-011</td>\n",
       "      <td>Apartamento em condomínio</td>\n",
       "      <td>-46.640787</td>\n",
       "      <td>-23.642935</td>\n",
       "      <td>-46.640787</td>\n",
       "      <td>-23.642935</td>\n",
       "    </tr>\n",
       "    <tr>\n",
       "      <th>3503970</th>\n",
       "      <td>310118024001</td>\n",
       "      <td>310118000001</td>\n",
       "      <td>Av Eng Armando De Arruda Pereira</td>\n",
       "      <td>1827</td>\n",
       "      <td>Ap 44</td>\n",
       "      <td>04309-011</td>\n",
       "      <td>Apartamento em condomínio</td>\n",
       "      <td>-46.640787</td>\n",
       "      <td>-23.642935</td>\n",
       "      <td>-46.640787</td>\n",
       "      <td>-23.642935</td>\n",
       "    </tr>\n",
       "    <tr>\n",
       "      <th>3503971</th>\n",
       "      <td>310119000100</td>\n",
       "      <td>310119000100</td>\n",
       "      <td>R  Cotipora</td>\n",
       "      <td>0</td>\n",
       "      <td>NaN</td>\n",
       "      <td>04317-060</td>\n",
       "      <td>Terreno</td>\n",
       "      <td>-46.631329</td>\n",
       "      <td>-23.644451</td>\n",
       "      <td>-46.631329</td>\n",
       "      <td>-23.644451</td>\n",
       "    </tr>\n",
       "    <tr>\n",
       "      <th>3503972</th>\n",
       "      <td>310120000100</td>\n",
       "      <td>310120000100</td>\n",
       "      <td>R  Ambores</td>\n",
       "      <td>0</td>\n",
       "      <td>NaN</td>\n",
       "      <td>04319-110</td>\n",
       "      <td>Terreno</td>\n",
       "      <td>NaN</td>\n",
       "      <td>NaN</td>\n",
       "      <td>NaN</td>\n",
       "      <td>NaN</td>\n",
       "    </tr>\n",
       "  </tbody>\n",
       "</table>\n",
       "<p>3503973 rows × 11 columns</p>\n",
       "</div>"
      ],
      "text/plain": [
       "                 name     SQLC-lote                            street  number  \\\n",
       "0        001003000100  001003000100                       R S Caetano      13   \n",
       "1        001003000200  001003000200                       R S Caetano      19   \n",
       "2        001003000300  001003000300                       R S Caetano      27   \n",
       "3        001003000400  001003000400                       R S Caetano      33   \n",
       "4        001003000500  001003000500                       R S Caetano      39   \n",
       "...               ...           ...                               ...     ...   \n",
       "3503968  310118023801  310118000001  Av Eng Armando De Arruda Pereira    1827   \n",
       "3503969  310118023901  310118000001  Av Eng Armando De Arruda Pereira    1827   \n",
       "3503970  310118024001  310118000001  Av Eng Armando De Arruda Pereira    1827   \n",
       "3503971  310119000100  310119000100                       R  Cotipora       0   \n",
       "3503972  310120000100  310120000100                        R  Ambores       0   \n",
       "\n",
       "        housenumber   postcode      TIPO DE USO DO IMOVEL          x  \\\n",
       "0               NaN  01104-001                       Loja -46.632863   \n",
       "1               NaN  01104-001                       Loja -46.632790   \n",
       "2               NaN  01104-001                       Loja -46.632722   \n",
       "3               NaN  01104-001                       Loja -46.632657   \n",
       "4               NaN  01104-001                       Loja -46.632585   \n",
       "...             ...        ...                        ...        ...   \n",
       "3503968       Ap 42  04309-011  Apartamento em condomínio -46.640787   \n",
       "3503969       Ap 43  04309-011  Apartamento em condomínio -46.640787   \n",
       "3503970       Ap 44  04309-011  Apartamento em condomínio -46.640787   \n",
       "3503971         NaN  04317-060                    Terreno -46.631329   \n",
       "3503972         NaN  04319-110                    Terreno        NaN   \n",
       "\n",
       "                 y        lon        lat  \n",
       "0       -23.534357 -46.632863 -23.534357  \n",
       "1       -23.534376 -46.632790 -23.534376  \n",
       "2       -23.534379 -46.632722 -23.534379  \n",
       "3       -23.534385 -46.632657 -23.534385  \n",
       "4       -23.534343 -46.632585 -23.534343  \n",
       "...            ...        ...        ...  \n",
       "3503968 -23.642935 -46.640787 -23.642935  \n",
       "3503969 -23.642935 -46.640787 -23.642935  \n",
       "3503970 -23.642935 -46.640787 -23.642935  \n",
       "3503971 -23.644451 -46.631329 -23.644451  \n",
       "3503972        NaN        NaN        NaN  \n",
       "\n",
       "[3503973 rows x 11 columns]"
      ]
     },
     "execution_count": 43,
     "metadata": {},
     "output_type": "execute_result"
    }
   ],
   "source": [
    "df_enderecos"
   ]
  },
  {
   "cell_type": "code",
   "execution_count": 45,
   "metadata": {},
   "outputs": [
    {
     "data": {
      "text/html": [
       "<pre>✔️ 46.3 ms (2021-06-28T13:49:31/2021-06-28T13:49:31)</pre>"
      ],
      "text/plain": [
       "<IPython.core.display.HTML object>"
      ]
     },
     "metadata": {},
     "output_type": "display_data"
    }
   ],
   "source": [
    "df_enderecos['layer'] = 'address'"
   ]
  },
  {
   "cell_type": "code",
   "execution_count": 46,
   "metadata": {},
   "outputs": [
    {
     "data": {
      "text/html": [
       "<pre>✔️ 46.5 ms (2021-06-28T13:50:08/2021-06-28T13:50:08)</pre>"
      ],
      "text/plain": [
       "<IPython.core.display.HTML object>"
      ]
     },
     "metadata": {},
     "output_type": "display_data"
    }
   ],
   "source": [
    "df_enderecos['source'] = 'IPTU2020'"
   ]
  },
  {
   "cell_type": "code",
   "execution_count": 47,
   "metadata": {},
   "outputs": [
    {
     "data": {
      "text/html": [
       "<pre>✔️ 2.21 ms (2021-06-28T13:51:53/2021-06-28T13:51:53)</pre>"
      ],
      "text/plain": [
       "<IPython.core.display.HTML object>"
      ]
     },
     "metadata": {},
     "output_type": "display_data"
    }
   ],
   "source": [
    "from uuid import uuid4"
   ]
  },
  {
   "cell_type": "code",
   "execution_count": 48,
   "metadata": {},
   "outputs": [
    {
     "data": {
      "text/html": [
       "<pre>✔️ 13.1 s (2021-06-28T13:52:35/2021-06-28T13:52:48)</pre>"
      ],
      "text/plain": [
       "<IPython.core.display.HTML object>"
      ]
     },
     "metadata": {},
     "output_type": "display_data"
    }
   ],
   "source": [
    "df_enderecos['id'] = df_enderecos.index.to_series().map(lambda x: uuid4())"
   ]
  },
  {
   "cell_type": "code",
   "execution_count": 57,
   "metadata": {},
   "outputs": [
    {
     "data": {
      "text/html": [
       "<pre>✔️ 329 ms (2021-06-28T13:57:08/2021-06-28T13:57:09)</pre>"
      ],
      "text/plain": [
       "<IPython.core.display.HTML object>"
      ]
     },
     "metadata": {},
     "output_type": "display_data"
    }
   ],
   "source": [
    "df_enderecos = df_enderecos[~df_enderecos.lat.isna()]"
   ]
  },
  {
   "cell_type": "code",
   "execution_count": 63,
   "metadata": {},
   "outputs": [
    {
     "data": {
      "text/html": [
       "<pre>✔️ 2.38 ms (2021-06-28T14:00:27/2021-06-28T14:00:27)</pre>"
      ],
      "text/plain": [
       "<IPython.core.display.HTML object>"
      ]
     },
     "metadata": {},
     "output_type": "display_data"
    }
   ],
   "source": [
    "campos_export = ['id', \n",
    "                 'source', \n",
    "                 'layer', \n",
    "                 'lat', \n",
    "                 'lon', \n",
    "                 'name', \n",
    "                 'street', \n",
    "                 'number', \n",
    "                 'housenumber', \n",
    "                 'postcode']"
   ]
  },
  {
   "cell_type": "code",
   "execution_count": 64,
   "metadata": {},
   "outputs": [
    {
     "data": {
      "text/html": [
       "<pre>✔️ 244 ms (2021-06-28T14:00:28/2021-06-28T14:00:28)</pre>"
      ],
      "text/plain": [
       "<IPython.core.display.HTML object>"
      ]
     },
     "metadata": {},
     "output_type": "display_data"
    },
    {
     "data": {
      "text/html": [
       "<div>\n",
       "<style scoped>\n",
       "    .dataframe tbody tr th:only-of-type {\n",
       "        vertical-align: middle;\n",
       "    }\n",
       "\n",
       "    .dataframe tbody tr th {\n",
       "        vertical-align: top;\n",
       "    }\n",
       "\n",
       "    .dataframe thead th {\n",
       "        text-align: right;\n",
       "    }\n",
       "</style>\n",
       "<table border=\"1\" class=\"dataframe\">\n",
       "  <thead>\n",
       "    <tr style=\"text-align: right;\">\n",
       "      <th></th>\n",
       "      <th>id</th>\n",
       "      <th>source</th>\n",
       "      <th>layer</th>\n",
       "      <th>lat</th>\n",
       "      <th>lon</th>\n",
       "      <th>name</th>\n",
       "      <th>street</th>\n",
       "      <th>number</th>\n",
       "      <th>housenumber</th>\n",
       "      <th>postcode</th>\n",
       "    </tr>\n",
       "  </thead>\n",
       "  <tbody>\n",
       "    <tr>\n",
       "      <th>0</th>\n",
       "      <td>4ff38326-412a-4151-84a5-111e2370b950</td>\n",
       "      <td>IPTU2020</td>\n",
       "      <td>address</td>\n",
       "      <td>-23.534357</td>\n",
       "      <td>-46.632863</td>\n",
       "      <td>001003000100</td>\n",
       "      <td>R S Caetano</td>\n",
       "      <td>13</td>\n",
       "      <td>NaN</td>\n",
       "      <td>01104-001</td>\n",
       "    </tr>\n",
       "    <tr>\n",
       "      <th>1</th>\n",
       "      <td>e70120c6-f410-4be3-8760-89fa53ddd3f8</td>\n",
       "      <td>IPTU2020</td>\n",
       "      <td>address</td>\n",
       "      <td>-23.534376</td>\n",
       "      <td>-46.632790</td>\n",
       "      <td>001003000200</td>\n",
       "      <td>R S Caetano</td>\n",
       "      <td>19</td>\n",
       "      <td>NaN</td>\n",
       "      <td>01104-001</td>\n",
       "    </tr>\n",
       "    <tr>\n",
       "      <th>2</th>\n",
       "      <td>16443ddb-150b-4231-8c89-67dff2695a99</td>\n",
       "      <td>IPTU2020</td>\n",
       "      <td>address</td>\n",
       "      <td>-23.534379</td>\n",
       "      <td>-46.632722</td>\n",
       "      <td>001003000300</td>\n",
       "      <td>R S Caetano</td>\n",
       "      <td>27</td>\n",
       "      <td>NaN</td>\n",
       "      <td>01104-001</td>\n",
       "    </tr>\n",
       "    <tr>\n",
       "      <th>3</th>\n",
       "      <td>8d75fdd0-f83e-4bf8-92b2-67111c5cee42</td>\n",
       "      <td>IPTU2020</td>\n",
       "      <td>address</td>\n",
       "      <td>-23.534385</td>\n",
       "      <td>-46.632657</td>\n",
       "      <td>001003000400</td>\n",
       "      <td>R S Caetano</td>\n",
       "      <td>33</td>\n",
       "      <td>NaN</td>\n",
       "      <td>01104-001</td>\n",
       "    </tr>\n",
       "    <tr>\n",
       "      <th>4</th>\n",
       "      <td>631d5fbb-2653-4217-88c8-74eb192ead14</td>\n",
       "      <td>IPTU2020</td>\n",
       "      <td>address</td>\n",
       "      <td>-23.534343</td>\n",
       "      <td>-46.632585</td>\n",
       "      <td>001003000500</td>\n",
       "      <td>R S Caetano</td>\n",
       "      <td>39</td>\n",
       "      <td>NaN</td>\n",
       "      <td>01104-001</td>\n",
       "    </tr>\n",
       "    <tr>\n",
       "      <th>...</th>\n",
       "      <td>...</td>\n",
       "      <td>...</td>\n",
       "      <td>...</td>\n",
       "      <td>...</td>\n",
       "      <td>...</td>\n",
       "      <td>...</td>\n",
       "      <td>...</td>\n",
       "      <td>...</td>\n",
       "      <td>...</td>\n",
       "      <td>...</td>\n",
       "    </tr>\n",
       "    <tr>\n",
       "      <th>3503967</th>\n",
       "      <td>66755183-e253-4ef0-8e33-298be61ec191</td>\n",
       "      <td>IPTU2020</td>\n",
       "      <td>address</td>\n",
       "      <td>-23.642935</td>\n",
       "      <td>-46.640787</td>\n",
       "      <td>310118023701</td>\n",
       "      <td>Av Eng Armando De Arruda Pereira</td>\n",
       "      <td>1827</td>\n",
       "      <td>Ap 41</td>\n",
       "      <td>04309-011</td>\n",
       "    </tr>\n",
       "    <tr>\n",
       "      <th>3503968</th>\n",
       "      <td>d94e4b20-3014-41e6-92bf-6d6e3e7a2bfa</td>\n",
       "      <td>IPTU2020</td>\n",
       "      <td>address</td>\n",
       "      <td>-23.642935</td>\n",
       "      <td>-46.640787</td>\n",
       "      <td>310118023801</td>\n",
       "      <td>Av Eng Armando De Arruda Pereira</td>\n",
       "      <td>1827</td>\n",
       "      <td>Ap 42</td>\n",
       "      <td>04309-011</td>\n",
       "    </tr>\n",
       "    <tr>\n",
       "      <th>3503969</th>\n",
       "      <td>dac8f7a9-18f5-409b-a6da-569dab093210</td>\n",
       "      <td>IPTU2020</td>\n",
       "      <td>address</td>\n",
       "      <td>-23.642935</td>\n",
       "      <td>-46.640787</td>\n",
       "      <td>310118023901</td>\n",
       "      <td>Av Eng Armando De Arruda Pereira</td>\n",
       "      <td>1827</td>\n",
       "      <td>Ap 43</td>\n",
       "      <td>04309-011</td>\n",
       "    </tr>\n",
       "    <tr>\n",
       "      <th>3503970</th>\n",
       "      <td>7debc3db-1ed2-439f-a69a-b15f9427e5a6</td>\n",
       "      <td>IPTU2020</td>\n",
       "      <td>address</td>\n",
       "      <td>-23.642935</td>\n",
       "      <td>-46.640787</td>\n",
       "      <td>310118024001</td>\n",
       "      <td>Av Eng Armando De Arruda Pereira</td>\n",
       "      <td>1827</td>\n",
       "      <td>Ap 44</td>\n",
       "      <td>04309-011</td>\n",
       "    </tr>\n",
       "    <tr>\n",
       "      <th>3503971</th>\n",
       "      <td>c225bd4a-3d88-439f-9de7-7d1f09444fb5</td>\n",
       "      <td>IPTU2020</td>\n",
       "      <td>address</td>\n",
       "      <td>-23.644451</td>\n",
       "      <td>-46.631329</td>\n",
       "      <td>310119000100</td>\n",
       "      <td>R  Cotipora</td>\n",
       "      <td>0</td>\n",
       "      <td>NaN</td>\n",
       "      <td>04317-060</td>\n",
       "    </tr>\n",
       "  </tbody>\n",
       "</table>\n",
       "<p>3427884 rows × 10 columns</p>\n",
       "</div>"
      ],
      "text/plain": [
       "                                           id    source    layer        lat  \\\n",
       "0        4ff38326-412a-4151-84a5-111e2370b950  IPTU2020  address -23.534357   \n",
       "1        e70120c6-f410-4be3-8760-89fa53ddd3f8  IPTU2020  address -23.534376   \n",
       "2        16443ddb-150b-4231-8c89-67dff2695a99  IPTU2020  address -23.534379   \n",
       "3        8d75fdd0-f83e-4bf8-92b2-67111c5cee42  IPTU2020  address -23.534385   \n",
       "4        631d5fbb-2653-4217-88c8-74eb192ead14  IPTU2020  address -23.534343   \n",
       "...                                       ...       ...      ...        ...   \n",
       "3503967  66755183-e253-4ef0-8e33-298be61ec191  IPTU2020  address -23.642935   \n",
       "3503968  d94e4b20-3014-41e6-92bf-6d6e3e7a2bfa  IPTU2020  address -23.642935   \n",
       "3503969  dac8f7a9-18f5-409b-a6da-569dab093210  IPTU2020  address -23.642935   \n",
       "3503970  7debc3db-1ed2-439f-a69a-b15f9427e5a6  IPTU2020  address -23.642935   \n",
       "3503971  c225bd4a-3d88-439f-9de7-7d1f09444fb5  IPTU2020  address -23.644451   \n",
       "\n",
       "               lon          name                            street  number  \\\n",
       "0       -46.632863  001003000100                       R S Caetano      13   \n",
       "1       -46.632790  001003000200                       R S Caetano      19   \n",
       "2       -46.632722  001003000300                       R S Caetano      27   \n",
       "3       -46.632657  001003000400                       R S Caetano      33   \n",
       "4       -46.632585  001003000500                       R S Caetano      39   \n",
       "...            ...           ...                               ...     ...   \n",
       "3503967 -46.640787  310118023701  Av Eng Armando De Arruda Pereira    1827   \n",
       "3503968 -46.640787  310118023801  Av Eng Armando De Arruda Pereira    1827   \n",
       "3503969 -46.640787  310118023901  Av Eng Armando De Arruda Pereira    1827   \n",
       "3503970 -46.640787  310118024001  Av Eng Armando De Arruda Pereira    1827   \n",
       "3503971 -46.631329  310119000100                       R  Cotipora       0   \n",
       "\n",
       "        housenumber   postcode  \n",
       "0               NaN  01104-001  \n",
       "1               NaN  01104-001  \n",
       "2               NaN  01104-001  \n",
       "3               NaN  01104-001  \n",
       "4               NaN  01104-001  \n",
       "...             ...        ...  \n",
       "3503967       Ap 41  04309-011  \n",
       "3503968       Ap 42  04309-011  \n",
       "3503969       Ap 43  04309-011  \n",
       "3503970       Ap 44  04309-011  \n",
       "3503971         NaN  04317-060  \n",
       "\n",
       "[3427884 rows x 10 columns]"
      ]
     },
     "execution_count": 64,
     "metadata": {},
     "output_type": "execute_result"
    }
   ],
   "source": [
    "df_enderecos[campos_export]"
   ]
  },
  {
   "cell_type": "code",
   "execution_count": 65,
   "metadata": {},
   "outputs": [
    {
     "data": {
      "text/html": [
       "<pre>✔️ 19.5 s (2021-06-28T14:00:42/2021-06-28T14:01:02)</pre>"
      ],
      "text/plain": [
       "<IPython.core.display.HTML object>"
      ]
     },
     "metadata": {},
     "output_type": "display_data"
    }
   ],
   "source": [
    "# compression_opts = dict(method='zip',\n",
    "#                         archive_name='sao-paulo-address-IPTU-2021.csv',\n",
    "#                        allowZip64=True) \n",
    "\n",
    "df_enderecos[campos_export].to_csv('resultados/enderecos-IPTU-2020-pelias.csv', \n",
    "            index=False)"
   ]
  },
  {
   "cell_type": "code",
   "execution_count": 61,
   "metadata": {
    "scrolled": true
   },
   "outputs": [
    {
     "data": {
      "text/html": [
       "<pre>✔️ 272 µs (2021-06-28T13:58:55/2021-06-28T13:58:55)</pre>"
      ],
      "text/plain": [
       "<IPython.core.display.HTML object>"
      ]
     },
     "metadata": {},
     "output_type": "display_data"
    }
   ],
   "source": [
    "# df_enderecos.loc[df_enderecos.X.notna(), campos_exportacao]"
   ]
  },
  {
   "cell_type": "code",
   "execution_count": null,
   "metadata": {},
   "outputs": [],
   "source": []
  },
  {
   "cell_type": "code",
   "execution_count": null,
   "metadata": {},
   "outputs": [],
   "source": []
  },
  {
   "cell_type": "code",
   "execution_count": 62,
   "metadata": {},
   "outputs": [
    {
     "data": {
      "text/html": [
       "<pre>✔️ 996 µs (2021-06-28T13:58:55/2021-06-28T13:58:55)</pre>"
      ],
      "text/plain": [
       "<IPython.core.display.HTML object>"
      ]
     },
     "metadata": {},
     "output_type": "display_data"
    }
   ],
   "source": [
    "# df_iptu['NOME DE LOGRADOURO DO IMOVEL'].str.split(expand=True).stack().value_counts().head(100)"
   ]
  },
  {
   "cell_type": "code",
   "execution_count": null,
   "metadata": {},
   "outputs": [],
   "source": []
  }
 ],
 "metadata": {
  "kernelspec": {
   "display_name": "Python 3",
   "language": "python",
   "name": "python3"
  },
  "language_info": {
   "codemirror_mode": {
    "name": "ipython",
    "version": 3
   },
   "file_extension": ".py",
   "mimetype": "text/x-python",
   "name": "python",
   "nbconvert_exporter": "python",
   "pygments_lexer": "ipython3",
   "version": "3.8.2"
  }
 },
 "nbformat": 4,
 "nbformat_minor": 4
}
