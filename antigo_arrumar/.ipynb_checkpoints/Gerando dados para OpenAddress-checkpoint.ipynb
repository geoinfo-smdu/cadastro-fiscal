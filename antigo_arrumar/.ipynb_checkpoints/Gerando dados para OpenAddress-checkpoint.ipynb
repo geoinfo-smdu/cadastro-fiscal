{
 "cells": [
  {
   "cell_type": "code",
   "execution_count": 1,
   "metadata": {},
   "outputs": [],
   "source": [
    "import pandas as pd\n",
    "import geopandas as gpd"
   ]
  },
  {
   "cell_type": "code",
   "execution_count": 2,
   "metadata": {},
   "outputs": [
    {
     "data": {
      "text/html": [
       "<pre>✔️ 1.98 ms (2021-02-16T13:24:40/2021-02-16T13:24:40)</pre>"
      ],
      "text/plain": [
       "<IPython.core.display.HTML object>"
      ]
     },
     "metadata": {},
     "output_type": "display_data"
    }
   ],
   "source": [
    "# Carrengando um complemento para visualizar quanto tempo demoram as tarefas\n",
    "\n",
    "%load_ext autotime"
   ]
  },
  {
   "cell_type": "code",
   "execution_count": 3,
   "metadata": {},
   "outputs": [
    {
     "data": {
      "text/html": [
       "<pre>✔️ 19.5 s (2021-02-16T13:24:40/2021-02-16T13:25:00)</pre>"
      ],
      "text/plain": [
       "<IPython.core.display.HTML object>"
      ]
     },
     "metadata": {},
     "output_type": "display_data"
    }
   ],
   "source": [
    "df_iptu = pd.read_csv('IPTU/IPTU_2020.zip', \\\n",
    "                      compression='zip', encoding='iso-8859-9', \\\n",
    "                      sep=';', decimal=',')"
   ]
  },
  {
   "cell_type": "code",
   "execution_count": 4,
   "metadata": {},
   "outputs": [
    {
     "data": {
      "text/html": [
       "<pre>✔️ 2.04 s (2021-02-16T13:25:05/2021-02-16T13:25:07)</pre>"
      ],
      "text/plain": [
       "<IPython.core.display.HTML object>"
      ]
     },
     "metadata": {},
     "output_type": "display_data"
    }
   ],
   "source": [
    "df_iptu['SQLC'] = df_iptu['NUMERO DO CONTRIBUINTE'].str[0:10] + \\\n",
    "df_iptu['NUMERO DO CONDOMINIO'].str[0:2]"
   ]
  },
  {
   "cell_type": "code",
   "execution_count": 16,
   "metadata": {},
   "outputs": [
    {
     "data": {
      "text/html": [
       "<pre>✔️ 2.41 s (2021-02-16T13:31:22/2021-02-16T13:31:24)</pre>"
      ],
      "text/plain": [
       "<IPython.core.display.HTML object>"
      ]
     },
     "metadata": {},
     "output_type": "display_data"
    }
   ],
   "source": [
    "df_iptu.loc[df_iptu['NUMERO DO CONDOMINIO'].str[0:2] == '00', 'lote'] = \\\n",
    "df_iptu.loc[df_iptu['NUMERO DO CONDOMINIO'].str[0:2] == '00', 'NUMERO DO CONTRIBUINTE'].str[6:10]"
   ]
  },
  {
   "cell_type": "code",
   "execution_count": 18,
   "metadata": {},
   "outputs": [
    {
     "data": {
      "text/html": [
       "<pre>✔️ 1.09 s (2021-02-16T13:32:38/2021-02-16T13:32:39)</pre>"
      ],
      "text/plain": [
       "<IPython.core.display.HTML object>"
      ]
     },
     "metadata": {},
     "output_type": "display_data"
    }
   ],
   "source": [
    "df_iptu.loc[df_iptu['NUMERO DO CONDOMINIO'].str[0:2] != '00', 'lote'] = '0000'"
   ]
  },
  {
   "cell_type": "code",
   "execution_count": 20,
   "metadata": {},
   "outputs": [
    {
     "data": {
      "text/html": [
       "<pre>✔️ 2.23 s (2021-02-16T13:34:07/2021-02-16T13:34:09)</pre>"
      ],
      "text/plain": [
       "<IPython.core.display.HTML object>"
      ]
     },
     "metadata": {},
     "output_type": "display_data"
    }
   ],
   "source": [
    "df_iptu['SQLC-lote'] = df_iptu['NUMERO DO CONTRIBUINTE'].str[0:6] + \\\n",
    "df_iptu['lote'] + \\\n",
    "df_iptu['NUMERO DO CONDOMINIO'].str[0:2]"
   ]
  },
  {
   "cell_type": "code",
   "execution_count": 23,
   "metadata": {},
   "outputs": [
    {
     "data": {
      "text/html": [
       "<pre>✔️ 1.18 s (2021-02-16T13:34:56/2021-02-16T13:34:57)</pre>"
      ],
      "text/plain": [
       "<IPython.core.display.HTML object>"
      ]
     },
     "metadata": {},
     "output_type": "display_data"
    },
    {
     "data": {
      "text/html": [
       "<div>\n",
       "<style scoped>\n",
       "    .dataframe tbody tr th:only-of-type {\n",
       "        vertical-align: middle;\n",
       "    }\n",
       "\n",
       "    .dataframe tbody tr th {\n",
       "        vertical-align: top;\n",
       "    }\n",
       "\n",
       "    .dataframe thead th {\n",
       "        text-align: right;\n",
       "    }\n",
       "</style>\n",
       "<table border=\"1\" class=\"dataframe\">\n",
       "  <thead>\n",
       "    <tr style=\"text-align: right;\">\n",
       "      <th></th>\n",
       "      <th>SQLC</th>\n",
       "      <th>SQLC-lote</th>\n",
       "    </tr>\n",
       "  </thead>\n",
       "  <tbody>\n",
       "    <tr>\n",
       "      <th>0</th>\n",
       "      <td>001003000100</td>\n",
       "      <td>001003000100</td>\n",
       "    </tr>\n",
       "    <tr>\n",
       "      <th>1</th>\n",
       "      <td>001003000200</td>\n",
       "      <td>001003000200</td>\n",
       "    </tr>\n",
       "    <tr>\n",
       "      <th>2</th>\n",
       "      <td>001003000300</td>\n",
       "      <td>001003000300</td>\n",
       "    </tr>\n",
       "    <tr>\n",
       "      <th>3</th>\n",
       "      <td>001003000400</td>\n",
       "      <td>001003000400</td>\n",
       "    </tr>\n",
       "    <tr>\n",
       "      <th>4</th>\n",
       "      <td>001003000500</td>\n",
       "      <td>001003000500</td>\n",
       "    </tr>\n",
       "    <tr>\n",
       "      <th>...</th>\n",
       "      <td>...</td>\n",
       "      <td>...</td>\n",
       "    </tr>\n",
       "    <tr>\n",
       "      <th>3498639</th>\n",
       "      <td>310118023801</td>\n",
       "      <td>310118000001</td>\n",
       "    </tr>\n",
       "    <tr>\n",
       "      <th>3498640</th>\n",
       "      <td>310118023901</td>\n",
       "      <td>310118000001</td>\n",
       "    </tr>\n",
       "    <tr>\n",
       "      <th>3498641</th>\n",
       "      <td>310118024001</td>\n",
       "      <td>310118000001</td>\n",
       "    </tr>\n",
       "    <tr>\n",
       "      <th>3498642</th>\n",
       "      <td>310119000100</td>\n",
       "      <td>310119000100</td>\n",
       "    </tr>\n",
       "    <tr>\n",
       "      <th>3498643</th>\n",
       "      <td>310120000100</td>\n",
       "      <td>310120000100</td>\n",
       "    </tr>\n",
       "  </tbody>\n",
       "</table>\n",
       "<p>3498644 rows × 2 columns</p>\n",
       "</div>"
      ],
      "text/plain": [
       "                 SQLC     SQLC-lote\n",
       "0        001003000100  001003000100\n",
       "1        001003000200  001003000200\n",
       "2        001003000300  001003000300\n",
       "3        001003000400  001003000400\n",
       "4        001003000500  001003000500\n",
       "...               ...           ...\n",
       "3498639  310118023801  310118000001\n",
       "3498640  310118023901  310118000001\n",
       "3498641  310118024001  310118000001\n",
       "3498642  310119000100  310119000100\n",
       "3498643  310120000100  310120000100\n",
       "\n",
       "[3498644 rows x 2 columns]"
      ]
     },
     "execution_count": 23,
     "metadata": {},
     "output_type": "execute_result"
    }
   ],
   "source": [
    "df_iptu[['SQLC','SQLC-lote']]"
   ]
  },
  {
   "cell_type": "code",
   "execution_count": 35,
   "metadata": {},
   "outputs": [
    {
     "data": {
      "text/html": [
       "<pre>✔️ 1.14 ms (2021-02-16T14:00:16/2021-02-16T14:00:16)</pre>"
      ],
      "text/plain": [
       "<IPython.core.display.HTML object>"
      ]
     },
     "metadata": {},
     "output_type": "display_data"
    }
   ],
   "source": [
    "campos = ['SQLC',\n",
    "          'SQLC-lote',\n",
    "         'NOME DE LOGRADOURO DO IMOVEL', \n",
    "         'NUMERO DO IMOVEL',\n",
    "         'COMPLEMENTO DO IMOVEL',\n",
    "         'CEP DO IMOVEL',\n",
    "         'TIPO DE USO DO IMOVEL']"
   ]
  },
  {
   "cell_type": "code",
   "execution_count": 25,
   "metadata": {
    "scrolled": true
   },
   "outputs": [
    {
     "data": {
      "text/html": [
       "<pre>✔️ 2.35 s (2021-02-16T13:57:39/2021-02-16T13:57:41)</pre>"
      ],
      "text/plain": [
       "<IPython.core.display.HTML object>"
      ]
     },
     "metadata": {},
     "output_type": "display_data"
    }
   ],
   "source": [
    "# df_iptu['NUMERO DO IMOVEL'] = df_iptu['NUMERO DO IMOVEL'][df_iptu['NUMERO DO IMOVEL'].notna()].astype(int)\n",
    "df_iptu.loc[df_iptu['NUMERO DO IMOVEL'].isna(), 'NUMERO DO IMOVEL'] = 0\n",
    "df_iptu = df_iptu.astype({'NUMERO DO IMOVEL':'int32'})\n",
    "# df_iptu['numero_de_porta'] = df_iptu['NUMERO DO IMOVEL'][df_iptu['NUMERO DO IMOVEL'].notna()].astype('int32')"
   ]
  },
  {
   "cell_type": "code",
   "execution_count": 26,
   "metadata": {},
   "outputs": [
    {
     "data": {
      "text/html": [
       "<pre>✔️ 1.2 s (2021-02-16T13:57:43/2021-02-16T13:57:44)</pre>"
      ],
      "text/plain": [
       "<IPython.core.display.HTML object>"
      ]
     },
     "metadata": {},
     "output_type": "display_data"
    }
   ],
   "source": [
    "df_iptu['NOME DE LOGRADOURO DO IMOVEL'] = df_iptu['NOME DE LOGRADOURO DO IMOVEL'].str.title()"
   ]
  },
  {
   "cell_type": "code",
   "execution_count": 27,
   "metadata": {},
   "outputs": [
    {
     "data": {
      "text/html": [
       "<pre>✔️ 876 ms (2021-02-16T13:57:45/2021-02-16T13:57:46)</pre>"
      ],
      "text/plain": [
       "<IPython.core.display.HTML object>"
      ]
     },
     "metadata": {},
     "output_type": "display_data"
    }
   ],
   "source": [
    "df_iptu['COMPLEMENTO DO IMOVEL'] = df_iptu['COMPLEMENTO DO IMOVEL'].str.title()"
   ]
  },
  {
   "cell_type": "code",
   "execution_count": 28,
   "metadata": {},
   "outputs": [
    {
     "data": {
      "text/html": [
       "<pre>✔️ 31 s (2021-02-16T13:57:48/2021-02-16T13:58:19)</pre>"
      ],
      "text/plain": [
       "<IPython.core.display.HTML object>"
      ]
     },
     "metadata": {},
     "output_type": "display_data"
    }
   ],
   "source": [
    "gdf_coords = gpd.read_file('resultados/lotes-por-pontos.gpkg')"
   ]
  },
  {
   "cell_type": "code",
   "execution_count": 29,
   "metadata": {},
   "outputs": [
    {
     "data": {
      "text/html": [
       "<pre>✔️ 25.8 s (2021-02-16T13:58:19/2021-02-16T13:58:45)</pre>"
      ],
      "text/plain": [
       "<IPython.core.display.HTML object>"
      ]
     },
     "metadata": {},
     "output_type": "display_data"
    }
   ],
   "source": [
    "gdf_coords['X'] = gdf_coords.geometry.x\n",
    "gdf_coords['Y'] = gdf_coords.geometry.y"
   ]
  },
  {
   "cell_type": "code",
   "execution_count": 37,
   "metadata": {},
   "outputs": [
    {
     "data": {
      "text/html": [
       "<pre>✔️ 2.75 s (2021-02-16T14:00:42/2021-02-16T14:00:45)</pre>"
      ],
      "text/plain": [
       "<IPython.core.display.HTML object>"
      ]
     },
     "metadata": {},
     "output_type": "display_data"
    }
   ],
   "source": [
    "df_enderecos = df_iptu[campos].merge(gdf_coords, on='SQLC-lote', how='left')"
   ]
  },
  {
   "cell_type": "code",
   "execution_count": 40,
   "metadata": {
    "scrolled": true
   },
   "outputs": [
    {
     "data": {
      "text/html": [
       "<pre>✔️ 553 ms (2021-02-16T14:01:33/2021-02-16T14:01:34)</pre>"
      ],
      "text/plain": [
       "<IPython.core.display.HTML object>"
      ]
     },
     "metadata": {},
     "output_type": "display_data"
    },
    {
     "data": {
      "text/html": [
       "<div>\n",
       "<style scoped>\n",
       "    .dataframe tbody tr th:only-of-type {\n",
       "        vertical-align: middle;\n",
       "    }\n",
       "\n",
       "    .dataframe tbody tr th {\n",
       "        vertical-align: top;\n",
       "    }\n",
       "\n",
       "    .dataframe thead th {\n",
       "        text-align: right;\n",
       "    }\n",
       "</style>\n",
       "<table border=\"1\" class=\"dataframe\">\n",
       "  <thead>\n",
       "    <tr style=\"text-align: right;\">\n",
       "      <th></th>\n",
       "      <th>SQLC</th>\n",
       "      <th>SQLC-lote</th>\n",
       "      <th>NOME DE LOGRADOURO DO IMOVEL</th>\n",
       "      <th>NUMERO DO IMOVEL</th>\n",
       "      <th>COMPLEMENTO DO IMOVEL</th>\n",
       "      <th>CEP DO IMOVEL</th>\n",
       "      <th>TIPO DE USO DO IMOVEL</th>\n",
       "      <th>geometry</th>\n",
       "      <th>X</th>\n",
       "      <th>Y</th>\n",
       "    </tr>\n",
       "  </thead>\n",
       "  <tbody>\n",
       "    <tr>\n",
       "      <th>1539</th>\n",
       "      <td>001013003400</td>\n",
       "      <td>001013003400</td>\n",
       "      <td>R  Possidonio Inacio</td>\n",
       "      <td>34</td>\n",
       "      <td>38 E 44</td>\n",
       "      <td>01103-030</td>\n",
       "      <td>Prédio de apartamento, não em condomínio, de u...</td>\n",
       "      <td>None</td>\n",
       "      <td>NaN</td>\n",
       "      <td>NaN</td>\n",
       "    </tr>\n",
       "    <tr>\n",
       "      <th>11661</th>\n",
       "      <td>001049067100</td>\n",
       "      <td>001049067100</td>\n",
       "      <td>R  Florencio De Abreu</td>\n",
       "      <td>333</td>\n",
       "      <td>337</td>\n",
       "      <td>01029-000</td>\n",
       "      <td>Loja</td>\n",
       "      <td>None</td>\n",
       "      <td>NaN</td>\n",
       "      <td>NaN</td>\n",
       "    </tr>\n",
       "    <tr>\n",
       "      <th>11662</th>\n",
       "      <td>001049067200</td>\n",
       "      <td>001049067200</td>\n",
       "      <td>R  Florencio De Abreu</td>\n",
       "      <td>343</td>\n",
       "      <td>NaN</td>\n",
       "      <td>01029-000</td>\n",
       "      <td>Loja</td>\n",
       "      <td>None</td>\n",
       "      <td>NaN</td>\n",
       "      <td>NaN</td>\n",
       "    </tr>\n",
       "    <tr>\n",
       "      <th>11663</th>\n",
       "      <td>001049067300</td>\n",
       "      <td>001049067300</td>\n",
       "      <td>R  Florencio De Abreu</td>\n",
       "      <td>353</td>\n",
       "      <td>355</td>\n",
       "      <td>01029-000</td>\n",
       "      <td>Loja</td>\n",
       "      <td>None</td>\n",
       "      <td>NaN</td>\n",
       "      <td>NaN</td>\n",
       "    </tr>\n",
       "    <tr>\n",
       "      <th>11664</th>\n",
       "      <td>001049067400</td>\n",
       "      <td>001049067400</td>\n",
       "      <td>R  Carlos De Sousa Nazare</td>\n",
       "      <td>54</td>\n",
       "      <td>NaN</td>\n",
       "      <td>01025-000</td>\n",
       "      <td>Loja</td>\n",
       "      <td>None</td>\n",
       "      <td>NaN</td>\n",
       "      <td>NaN</td>\n",
       "    </tr>\n",
       "    <tr>\n",
       "      <th>...</th>\n",
       "      <td>...</td>\n",
       "      <td>...</td>\n",
       "      <td>...</td>\n",
       "      <td>...</td>\n",
       "      <td>...</td>\n",
       "      <td>...</td>\n",
       "      <td>...</td>\n",
       "      <td>...</td>\n",
       "      <td>...</td>\n",
       "      <td>...</td>\n",
       "    </tr>\n",
       "    <tr>\n",
       "      <th>3503303</th>\n",
       "      <td>310110003900</td>\n",
       "      <td>310110003900</td>\n",
       "      <td>R S Borja</td>\n",
       "      <td>98</td>\n",
       "      <td>10 A Qd 3</td>\n",
       "      <td>04320-060</td>\n",
       "      <td>Residência</td>\n",
       "      <td>None</td>\n",
       "      <td>NaN</td>\n",
       "      <td>NaN</td>\n",
       "    </tr>\n",
       "    <tr>\n",
       "      <th>3503304</th>\n",
       "      <td>310110004000</td>\n",
       "      <td>310110004000</td>\n",
       "      <td>R  Jose De Alcantara</td>\n",
       "      <td>91</td>\n",
       "      <td>NaN</td>\n",
       "      <td>04324-000</td>\n",
       "      <td>Residência</td>\n",
       "      <td>None</td>\n",
       "      <td>NaN</td>\n",
       "      <td>NaN</td>\n",
       "    </tr>\n",
       "    <tr>\n",
       "      <th>3503305</th>\n",
       "      <td>310110004100</td>\n",
       "      <td>310110004100</td>\n",
       "      <td>R S Borja</td>\n",
       "      <td>158</td>\n",
       "      <td>NaN</td>\n",
       "      <td>04320-060</td>\n",
       "      <td>Residência</td>\n",
       "      <td>None</td>\n",
       "      <td>NaN</td>\n",
       "      <td>NaN</td>\n",
       "    </tr>\n",
       "    <tr>\n",
       "      <th>3503306</th>\n",
       "      <td>310110004200</td>\n",
       "      <td>310110004200</td>\n",
       "      <td>R  Jose De Alcantara</td>\n",
       "      <td>159</td>\n",
       "      <td>NaN</td>\n",
       "      <td>04324-000</td>\n",
       "      <td>Residência</td>\n",
       "      <td>None</td>\n",
       "      <td>NaN</td>\n",
       "      <td>NaN</td>\n",
       "    </tr>\n",
       "    <tr>\n",
       "      <th>3503972</th>\n",
       "      <td>310120000100</td>\n",
       "      <td>310120000100</td>\n",
       "      <td>R  Ambores</td>\n",
       "      <td>0</td>\n",
       "      <td>NaN</td>\n",
       "      <td>04319-110</td>\n",
       "      <td>Terreno</td>\n",
       "      <td>None</td>\n",
       "      <td>NaN</td>\n",
       "      <td>NaN</td>\n",
       "    </tr>\n",
       "  </tbody>\n",
       "</table>\n",
       "<p>76089 rows × 10 columns</p>\n",
       "</div>"
      ],
      "text/plain": [
       "                 SQLC     SQLC-lote NOME DE LOGRADOURO DO IMOVEL  \\\n",
       "1539     001013003400  001013003400         R  Possidonio Inacio   \n",
       "11661    001049067100  001049067100        R  Florencio De Abreu   \n",
       "11662    001049067200  001049067200        R  Florencio De Abreu   \n",
       "11663    001049067300  001049067300        R  Florencio De Abreu   \n",
       "11664    001049067400  001049067400    R  Carlos De Sousa Nazare   \n",
       "...               ...           ...                          ...   \n",
       "3503303  310110003900  310110003900                    R S Borja   \n",
       "3503304  310110004000  310110004000         R  Jose De Alcantara   \n",
       "3503305  310110004100  310110004100                    R S Borja   \n",
       "3503306  310110004200  310110004200         R  Jose De Alcantara   \n",
       "3503972  310120000100  310120000100                   R  Ambores   \n",
       "\n",
       "         NUMERO DO IMOVEL COMPLEMENTO DO IMOVEL CEP DO IMOVEL  \\\n",
       "1539                   34               38 E 44     01103-030   \n",
       "11661                 333                   337     01029-000   \n",
       "11662                 343                   NaN     01029-000   \n",
       "11663                 353                   355     01029-000   \n",
       "11664                  54                   NaN     01025-000   \n",
       "...                   ...                   ...           ...   \n",
       "3503303                98             10 A Qd 3     04320-060   \n",
       "3503304                91                   NaN     04324-000   \n",
       "3503305               158                   NaN     04320-060   \n",
       "3503306               159                   NaN     04324-000   \n",
       "3503972                 0                   NaN     04319-110   \n",
       "\n",
       "                                     TIPO DE USO DO IMOVEL geometry   X   Y  \n",
       "1539     Prédio de apartamento, não em condomínio, de u...     None NaN NaN  \n",
       "11661                                                 Loja     None NaN NaN  \n",
       "11662                                                 Loja     None NaN NaN  \n",
       "11663                                                 Loja     None NaN NaN  \n",
       "11664                                                 Loja     None NaN NaN  \n",
       "...                                                    ...      ...  ..  ..  \n",
       "3503303                                         Residência     None NaN NaN  \n",
       "3503304                                         Residência     None NaN NaN  \n",
       "3503305                                         Residência     None NaN NaN  \n",
       "3503306                                         Residência     None NaN NaN  \n",
       "3503972                                            Terreno     None NaN NaN  \n",
       "\n",
       "[76089 rows x 10 columns]"
      ]
     },
     "execution_count": 40,
     "metadata": {},
     "output_type": "execute_result"
    }
   ],
   "source": [
    "df_enderecos[df_enderecos.X.isna()]"
   ]
  },
  {
   "cell_type": "code",
   "execution_count": 41,
   "metadata": {},
   "outputs": [
    {
     "data": {
      "text/html": [
       "<pre>✔️ 448 µs (2021-02-16T14:10:55/2021-02-16T14:10:55)</pre>"
      ],
      "text/plain": [
       "<IPython.core.display.HTML object>"
      ]
     },
     "metadata": {},
     "output_type": "display_data"
    }
   ],
   "source": [
    "campos_exportacao = \\\n",
    "        ['SQLC',\n",
    "         'X', 'Y', \n",
    "         'NOME DE LOGRADOURO DO IMOVEL', \n",
    "         'NUMERO DO IMOVEL',\n",
    "         'COMPLEMENTO DO IMOVEL',\n",
    "         'CEP DO IMOVEL',\n",
    "         'TIPO DE USO DO IMOVEL']"
   ]
  },
  {
   "cell_type": "code",
   "execution_count": 48,
   "metadata": {},
   "outputs": [
    {
     "data": {
      "text/html": [
       "<pre>✔️ 1.55 ms (2021-02-16T15:13:10/2021-02-16T15:13:10)</pre>"
      ],
      "text/plain": [
       "<IPython.core.display.HTML object>"
      ]
     },
     "metadata": {},
     "output_type": "display_data"
    }
   ],
   "source": [
    "campos_renomear = \\\n",
    "        {'SQLC': 'sqlc',\n",
    "         'X': 'longitude', 'Y': 'latitude', \n",
    "         'NOME DE LOGRADOURO DO IMOVEL': 'logradouro', \n",
    "         'NUMERO DO IMOVEL': 'numero',\n",
    "         'COMPLEMENTO DO IMOVEL': 'complemento',\n",
    "         'CEP DO IMOVEL': 'cep',\n",
    "         'TIPO DE USO DO IMOVEL': 'uso'}"
   ]
  },
  {
   "cell_type": "code",
   "execution_count": 49,
   "metadata": {},
   "outputs": [
    {
     "data": {
      "text/html": [
       "<pre>✔️ 242 ms (2021-02-16T15:13:28/2021-02-16T15:13:28)</pre>"
      ],
      "text/plain": [
       "<IPython.core.display.HTML object>"
      ]
     },
     "metadata": {},
     "output_type": "display_data"
    },
    {
     "data": {
      "text/html": [
       "<div>\n",
       "<style scoped>\n",
       "    .dataframe tbody tr th:only-of-type {\n",
       "        vertical-align: middle;\n",
       "    }\n",
       "\n",
       "    .dataframe tbody tr th {\n",
       "        vertical-align: top;\n",
       "    }\n",
       "\n",
       "    .dataframe thead th {\n",
       "        text-align: right;\n",
       "    }\n",
       "</style>\n",
       "<table border=\"1\" class=\"dataframe\">\n",
       "  <thead>\n",
       "    <tr style=\"text-align: right;\">\n",
       "      <th></th>\n",
       "      <th>sqlc</th>\n",
       "      <th>SQLC-lote</th>\n",
       "      <th>logradouro</th>\n",
       "      <th>numero</th>\n",
       "      <th>complemento</th>\n",
       "      <th>cep</th>\n",
       "      <th>uso</th>\n",
       "      <th>geometry</th>\n",
       "      <th>longitude</th>\n",
       "      <th>latitude</th>\n",
       "    </tr>\n",
       "  </thead>\n",
       "  <tbody>\n",
       "    <tr>\n",
       "      <th>0</th>\n",
       "      <td>001003000100</td>\n",
       "      <td>001003000100</td>\n",
       "      <td>R S Caetano</td>\n",
       "      <td>13</td>\n",
       "      <td>NaN</td>\n",
       "      <td>01104-001</td>\n",
       "      <td>Loja</td>\n",
       "      <td>POINT (-46.63286 -23.53436)</td>\n",
       "      <td>-46.632863</td>\n",
       "      <td>-23.534357</td>\n",
       "    </tr>\n",
       "    <tr>\n",
       "      <th>1</th>\n",
       "      <td>001003000200</td>\n",
       "      <td>001003000200</td>\n",
       "      <td>R S Caetano</td>\n",
       "      <td>19</td>\n",
       "      <td>NaN</td>\n",
       "      <td>01104-001</td>\n",
       "      <td>Loja</td>\n",
       "      <td>POINT (-46.63279 -23.53438)</td>\n",
       "      <td>-46.632790</td>\n",
       "      <td>-23.534376</td>\n",
       "    </tr>\n",
       "    <tr>\n",
       "      <th>2</th>\n",
       "      <td>001003000300</td>\n",
       "      <td>001003000300</td>\n",
       "      <td>R S Caetano</td>\n",
       "      <td>27</td>\n",
       "      <td>NaN</td>\n",
       "      <td>01104-001</td>\n",
       "      <td>Loja</td>\n",
       "      <td>POINT (-46.63272 -23.53438)</td>\n",
       "      <td>-46.632722</td>\n",
       "      <td>-23.534379</td>\n",
       "    </tr>\n",
       "    <tr>\n",
       "      <th>3</th>\n",
       "      <td>001003000400</td>\n",
       "      <td>001003000400</td>\n",
       "      <td>R S Caetano</td>\n",
       "      <td>33</td>\n",
       "      <td>NaN</td>\n",
       "      <td>01104-001</td>\n",
       "      <td>Loja</td>\n",
       "      <td>POINT (-46.63266 -23.53438)</td>\n",
       "      <td>-46.632657</td>\n",
       "      <td>-23.534385</td>\n",
       "    </tr>\n",
       "    <tr>\n",
       "      <th>4</th>\n",
       "      <td>001003000500</td>\n",
       "      <td>001003000500</td>\n",
       "      <td>R S Caetano</td>\n",
       "      <td>39</td>\n",
       "      <td>NaN</td>\n",
       "      <td>01104-001</td>\n",
       "      <td>Loja</td>\n",
       "      <td>POINT (-46.63258 -23.53434)</td>\n",
       "      <td>-46.632585</td>\n",
       "      <td>-23.534343</td>\n",
       "    </tr>\n",
       "    <tr>\n",
       "      <th>...</th>\n",
       "      <td>...</td>\n",
       "      <td>...</td>\n",
       "      <td>...</td>\n",
       "      <td>...</td>\n",
       "      <td>...</td>\n",
       "      <td>...</td>\n",
       "      <td>...</td>\n",
       "      <td>...</td>\n",
       "      <td>...</td>\n",
       "      <td>...</td>\n",
       "    </tr>\n",
       "    <tr>\n",
       "      <th>3503968</th>\n",
       "      <td>310118023801</td>\n",
       "      <td>310118000001</td>\n",
       "      <td>Av Eng Armando De Arruda Pereira</td>\n",
       "      <td>1827</td>\n",
       "      <td>Ap 42</td>\n",
       "      <td>04309-011</td>\n",
       "      <td>Apartamento em condomínio</td>\n",
       "      <td>POINT (-46.64079 -23.64294)</td>\n",
       "      <td>-46.640787</td>\n",
       "      <td>-23.642935</td>\n",
       "    </tr>\n",
       "    <tr>\n",
       "      <th>3503969</th>\n",
       "      <td>310118023901</td>\n",
       "      <td>310118000001</td>\n",
       "      <td>Av Eng Armando De Arruda Pereira</td>\n",
       "      <td>1827</td>\n",
       "      <td>Ap 43</td>\n",
       "      <td>04309-011</td>\n",
       "      <td>Apartamento em condomínio</td>\n",
       "      <td>POINT (-46.64079 -23.64294)</td>\n",
       "      <td>-46.640787</td>\n",
       "      <td>-23.642935</td>\n",
       "    </tr>\n",
       "    <tr>\n",
       "      <th>3503970</th>\n",
       "      <td>310118024001</td>\n",
       "      <td>310118000001</td>\n",
       "      <td>Av Eng Armando De Arruda Pereira</td>\n",
       "      <td>1827</td>\n",
       "      <td>Ap 44</td>\n",
       "      <td>04309-011</td>\n",
       "      <td>Apartamento em condomínio</td>\n",
       "      <td>POINT (-46.64079 -23.64294)</td>\n",
       "      <td>-46.640787</td>\n",
       "      <td>-23.642935</td>\n",
       "    </tr>\n",
       "    <tr>\n",
       "      <th>3503971</th>\n",
       "      <td>310119000100</td>\n",
       "      <td>310119000100</td>\n",
       "      <td>R  Cotipora</td>\n",
       "      <td>0</td>\n",
       "      <td>NaN</td>\n",
       "      <td>04317-060</td>\n",
       "      <td>Terreno</td>\n",
       "      <td>POINT (-46.63133 -23.64445)</td>\n",
       "      <td>-46.631329</td>\n",
       "      <td>-23.644451</td>\n",
       "    </tr>\n",
       "    <tr>\n",
       "      <th>3503972</th>\n",
       "      <td>310120000100</td>\n",
       "      <td>310120000100</td>\n",
       "      <td>R  Ambores</td>\n",
       "      <td>0</td>\n",
       "      <td>NaN</td>\n",
       "      <td>04319-110</td>\n",
       "      <td>Terreno</td>\n",
       "      <td>None</td>\n",
       "      <td>NaN</td>\n",
       "      <td>NaN</td>\n",
       "    </tr>\n",
       "  </tbody>\n",
       "</table>\n",
       "<p>3503973 rows × 10 columns</p>\n",
       "</div>"
      ],
      "text/plain": [
       "                 sqlc     SQLC-lote                        logradouro  numero  \\\n",
       "0        001003000100  001003000100                       R S Caetano      13   \n",
       "1        001003000200  001003000200                       R S Caetano      19   \n",
       "2        001003000300  001003000300                       R S Caetano      27   \n",
       "3        001003000400  001003000400                       R S Caetano      33   \n",
       "4        001003000500  001003000500                       R S Caetano      39   \n",
       "...               ...           ...                               ...     ...   \n",
       "3503968  310118023801  310118000001  Av Eng Armando De Arruda Pereira    1827   \n",
       "3503969  310118023901  310118000001  Av Eng Armando De Arruda Pereira    1827   \n",
       "3503970  310118024001  310118000001  Av Eng Armando De Arruda Pereira    1827   \n",
       "3503971  310119000100  310119000100                       R  Cotipora       0   \n",
       "3503972  310120000100  310120000100                        R  Ambores       0   \n",
       "\n",
       "        complemento        cep                        uso  \\\n",
       "0               NaN  01104-001                       Loja   \n",
       "1               NaN  01104-001                       Loja   \n",
       "2               NaN  01104-001                       Loja   \n",
       "3               NaN  01104-001                       Loja   \n",
       "4               NaN  01104-001                       Loja   \n",
       "...             ...        ...                        ...   \n",
       "3503968       Ap 42  04309-011  Apartamento em condomínio   \n",
       "3503969       Ap 43  04309-011  Apartamento em condomínio   \n",
       "3503970       Ap 44  04309-011  Apartamento em condomínio   \n",
       "3503971         NaN  04317-060                    Terreno   \n",
       "3503972         NaN  04319-110                    Terreno   \n",
       "\n",
       "                            geometry  longitude   latitude  \n",
       "0        POINT (-46.63286 -23.53436) -46.632863 -23.534357  \n",
       "1        POINT (-46.63279 -23.53438) -46.632790 -23.534376  \n",
       "2        POINT (-46.63272 -23.53438) -46.632722 -23.534379  \n",
       "3        POINT (-46.63266 -23.53438) -46.632657 -23.534385  \n",
       "4        POINT (-46.63258 -23.53434) -46.632585 -23.534343  \n",
       "...                              ...        ...        ...  \n",
       "3503968  POINT (-46.64079 -23.64294) -46.640787 -23.642935  \n",
       "3503969  POINT (-46.64079 -23.64294) -46.640787 -23.642935  \n",
       "3503970  POINT (-46.64079 -23.64294) -46.640787 -23.642935  \n",
       "3503971  POINT (-46.63133 -23.64445) -46.631329 -23.644451  \n",
       "3503972                         None        NaN        NaN  \n",
       "\n",
       "[3503973 rows x 10 columns]"
      ]
     },
     "execution_count": 49,
     "metadata": {},
     "output_type": "execute_result"
    }
   ],
   "source": [
    "df_enderecos.rename(columns=campos_renomear)"
   ]
  },
  {
   "cell_type": "code",
   "execution_count": 56,
   "metadata": {},
   "outputs": [
    {
     "data": {
      "text/html": [
       "<pre>✔️ 1.02 s (2021-02-16T16:01:29/2021-02-16T16:01:30)</pre>"
      ],
      "text/plain": [
       "<IPython.core.display.HTML object>"
      ]
     },
     "metadata": {},
     "output_type": "display_data"
    },
    {
     "ename": "TypeError",
     "evalue": "to_csv() got an unexpected keyword argument 'allowZip64'",
     "output_type": "error",
     "traceback": [
      "\u001b[0;31m---------------------------------------------------------------------------\u001b[0m",
      "\u001b[0;31mTypeError\u001b[0m                                 Traceback (most recent call last)",
      "\u001b[0;32m<ipython-input-56-8a0275766c33>\u001b[0m in \u001b[0;36m<module>\u001b[0;34m\u001b[0m\n\u001b[1;32m      2\u001b[0m                         archive_name='sao-paulo-address-IPTU-2021.csv') \n\u001b[1;32m      3\u001b[0m \u001b[0;34m\u001b[0m\u001b[0m\n\u001b[0;32m----> 4\u001b[0;31m \u001b[0mdf_enderecos\u001b[0m\u001b[0;34m.\u001b[0m\u001b[0mloc\u001b[0m\u001b[0;34m[\u001b[0m\u001b[0mdf_enderecos\u001b[0m\u001b[0;34m.\u001b[0m\u001b[0mX\u001b[0m\u001b[0;34m.\u001b[0m\u001b[0mnotna\u001b[0m\u001b[0;34m(\u001b[0m\u001b[0;34m)\u001b[0m\u001b[0;34m,\u001b[0m \u001b[0mcampos_exportacao\u001b[0m\u001b[0;34m]\u001b[0m\u001b[0;31m \u001b[0m\u001b[0;31m\\\u001b[0m\u001b[0;34m\u001b[0m\u001b[0;34m\u001b[0m\u001b[0m\n\u001b[0m\u001b[1;32m      5\u001b[0m             \u001b[0;34m.\u001b[0m\u001b[0mrename\u001b[0m\u001b[0;34m(\u001b[0m\u001b[0mcolumns\u001b[0m\u001b[0;34m=\u001b[0m\u001b[0mcampos_renomear\u001b[0m\u001b[0;34m)\u001b[0m\u001b[0;31m \u001b[0m\u001b[0;31m\\\u001b[0m\u001b[0;34m\u001b[0m\u001b[0;34m\u001b[0m\u001b[0m\n\u001b[1;32m      6\u001b[0m             .to_csv('resultados/sao-paulo-address-IPTU-2021.zip', \n",
      "\u001b[0;31mTypeError\u001b[0m: to_csv() got an unexpected keyword argument 'allowZip64'"
     ]
    }
   ],
   "source": [
    "compression_opts = dict(method='zip',\n",
    "                        archive_name='sao-paulo-address-IPTU-2021.csv',\n",
    "                       allowZip64=True) \n",
    "\n",
    "df_enderecos.loc[df_enderecos.X.notna(), campos_exportacao] \\\n",
    "            .rename(columns=campos_renomear) \\\n",
    "            .to_csv('resultados/sao-paulo-address-IPTU-2021.zip', \n",
    "            index=False, \n",
    "            compression=compression_opts)"
   ]
  },
  {
   "cell_type": "code",
   "execution_count": 47,
   "metadata": {},
   "outputs": [
    {
     "data": {
      "text/html": [
       "<pre>✔️ 738 ms (2021-02-16T15:07:52/2021-02-16T15:07:53)</pre>"
      ],
      "text/plain": [
       "<IPython.core.display.HTML object>"
      ]
     },
     "metadata": {},
     "output_type": "display_data"
    },
    {
     "data": {
      "text/html": [
       "<div>\n",
       "<style scoped>\n",
       "    .dataframe tbody tr th:only-of-type {\n",
       "        vertical-align: middle;\n",
       "    }\n",
       "\n",
       "    .dataframe tbody tr th {\n",
       "        vertical-align: top;\n",
       "    }\n",
       "\n",
       "    .dataframe thead th {\n",
       "        text-align: right;\n",
       "    }\n",
       "</style>\n",
       "<table border=\"1\" class=\"dataframe\">\n",
       "  <thead>\n",
       "    <tr style=\"text-align: right;\">\n",
       "      <th></th>\n",
       "      <th>SQLC</th>\n",
       "      <th>X</th>\n",
       "      <th>Y</th>\n",
       "      <th>NOME DE LOGRADOURO DO IMOVEL</th>\n",
       "      <th>NUMERO DO IMOVEL</th>\n",
       "      <th>COMPLEMENTO DO IMOVEL</th>\n",
       "      <th>CEP DO IMOVEL</th>\n",
       "      <th>TIPO DE USO DO IMOVEL</th>\n",
       "    </tr>\n",
       "  </thead>\n",
       "  <tbody>\n",
       "    <tr>\n",
       "      <th>0</th>\n",
       "      <td>001003000100</td>\n",
       "      <td>-46.632863</td>\n",
       "      <td>-23.534357</td>\n",
       "      <td>R S Caetano</td>\n",
       "      <td>13</td>\n",
       "      <td>NaN</td>\n",
       "      <td>01104-001</td>\n",
       "      <td>Loja</td>\n",
       "    </tr>\n",
       "    <tr>\n",
       "      <th>1</th>\n",
       "      <td>001003000200</td>\n",
       "      <td>-46.632790</td>\n",
       "      <td>-23.534376</td>\n",
       "      <td>R S Caetano</td>\n",
       "      <td>19</td>\n",
       "      <td>NaN</td>\n",
       "      <td>01104-001</td>\n",
       "      <td>Loja</td>\n",
       "    </tr>\n",
       "    <tr>\n",
       "      <th>2</th>\n",
       "      <td>001003000300</td>\n",
       "      <td>-46.632722</td>\n",
       "      <td>-23.534379</td>\n",
       "      <td>R S Caetano</td>\n",
       "      <td>27</td>\n",
       "      <td>NaN</td>\n",
       "      <td>01104-001</td>\n",
       "      <td>Loja</td>\n",
       "    </tr>\n",
       "    <tr>\n",
       "      <th>3</th>\n",
       "      <td>001003000400</td>\n",
       "      <td>-46.632657</td>\n",
       "      <td>-23.534385</td>\n",
       "      <td>R S Caetano</td>\n",
       "      <td>33</td>\n",
       "      <td>NaN</td>\n",
       "      <td>01104-001</td>\n",
       "      <td>Loja</td>\n",
       "    </tr>\n",
       "    <tr>\n",
       "      <th>4</th>\n",
       "      <td>001003000500</td>\n",
       "      <td>-46.632585</td>\n",
       "      <td>-23.534343</td>\n",
       "      <td>R S Caetano</td>\n",
       "      <td>39</td>\n",
       "      <td>NaN</td>\n",
       "      <td>01104-001</td>\n",
       "      <td>Loja</td>\n",
       "    </tr>\n",
       "    <tr>\n",
       "      <th>...</th>\n",
       "      <td>...</td>\n",
       "      <td>...</td>\n",
       "      <td>...</td>\n",
       "      <td>...</td>\n",
       "      <td>...</td>\n",
       "      <td>...</td>\n",
       "      <td>...</td>\n",
       "      <td>...</td>\n",
       "    </tr>\n",
       "    <tr>\n",
       "      <th>3503967</th>\n",
       "      <td>310118023701</td>\n",
       "      <td>-46.640787</td>\n",
       "      <td>-23.642935</td>\n",
       "      <td>Av Eng Armando De Arruda Pereira</td>\n",
       "      <td>1827</td>\n",
       "      <td>Ap 41</td>\n",
       "      <td>04309-011</td>\n",
       "      <td>Apartamento em condomínio</td>\n",
       "    </tr>\n",
       "    <tr>\n",
       "      <th>3503968</th>\n",
       "      <td>310118023801</td>\n",
       "      <td>-46.640787</td>\n",
       "      <td>-23.642935</td>\n",
       "      <td>Av Eng Armando De Arruda Pereira</td>\n",
       "      <td>1827</td>\n",
       "      <td>Ap 42</td>\n",
       "      <td>04309-011</td>\n",
       "      <td>Apartamento em condomínio</td>\n",
       "    </tr>\n",
       "    <tr>\n",
       "      <th>3503969</th>\n",
       "      <td>310118023901</td>\n",
       "      <td>-46.640787</td>\n",
       "      <td>-23.642935</td>\n",
       "      <td>Av Eng Armando De Arruda Pereira</td>\n",
       "      <td>1827</td>\n",
       "      <td>Ap 43</td>\n",
       "      <td>04309-011</td>\n",
       "      <td>Apartamento em condomínio</td>\n",
       "    </tr>\n",
       "    <tr>\n",
       "      <th>3503970</th>\n",
       "      <td>310118024001</td>\n",
       "      <td>-46.640787</td>\n",
       "      <td>-23.642935</td>\n",
       "      <td>Av Eng Armando De Arruda Pereira</td>\n",
       "      <td>1827</td>\n",
       "      <td>Ap 44</td>\n",
       "      <td>04309-011</td>\n",
       "      <td>Apartamento em condomínio</td>\n",
       "    </tr>\n",
       "    <tr>\n",
       "      <th>3503971</th>\n",
       "      <td>310119000100</td>\n",
       "      <td>-46.631329</td>\n",
       "      <td>-23.644451</td>\n",
       "      <td>R  Cotipora</td>\n",
       "      <td>0</td>\n",
       "      <td>NaN</td>\n",
       "      <td>04317-060</td>\n",
       "      <td>Terreno</td>\n",
       "    </tr>\n",
       "  </tbody>\n",
       "</table>\n",
       "<p>3427884 rows × 8 columns</p>\n",
       "</div>"
      ],
      "text/plain": [
       "                 SQLC          X          Y      NOME DE LOGRADOURO DO IMOVEL  \\\n",
       "0        001003000100 -46.632863 -23.534357                       R S Caetano   \n",
       "1        001003000200 -46.632790 -23.534376                       R S Caetano   \n",
       "2        001003000300 -46.632722 -23.534379                       R S Caetano   \n",
       "3        001003000400 -46.632657 -23.534385                       R S Caetano   \n",
       "4        001003000500 -46.632585 -23.534343                       R S Caetano   \n",
       "...               ...        ...        ...                               ...   \n",
       "3503967  310118023701 -46.640787 -23.642935  Av Eng Armando De Arruda Pereira   \n",
       "3503968  310118023801 -46.640787 -23.642935  Av Eng Armando De Arruda Pereira   \n",
       "3503969  310118023901 -46.640787 -23.642935  Av Eng Armando De Arruda Pereira   \n",
       "3503970  310118024001 -46.640787 -23.642935  Av Eng Armando De Arruda Pereira   \n",
       "3503971  310119000100 -46.631329 -23.644451                       R  Cotipora   \n",
       "\n",
       "         NUMERO DO IMOVEL COMPLEMENTO DO IMOVEL CEP DO IMOVEL  \\\n",
       "0                      13                   NaN     01104-001   \n",
       "1                      19                   NaN     01104-001   \n",
       "2                      27                   NaN     01104-001   \n",
       "3                      33                   NaN     01104-001   \n",
       "4                      39                   NaN     01104-001   \n",
       "...                   ...                   ...           ...   \n",
       "3503967              1827                 Ap 41     04309-011   \n",
       "3503968              1827                 Ap 42     04309-011   \n",
       "3503969              1827                 Ap 43     04309-011   \n",
       "3503970              1827                 Ap 44     04309-011   \n",
       "3503971                 0                   NaN     04317-060   \n",
       "\n",
       "             TIPO DE USO DO IMOVEL  \n",
       "0                             Loja  \n",
       "1                             Loja  \n",
       "2                             Loja  \n",
       "3                             Loja  \n",
       "4                             Loja  \n",
       "...                            ...  \n",
       "3503967  Apartamento em condomínio  \n",
       "3503968  Apartamento em condomínio  \n",
       "3503969  Apartamento em condomínio  \n",
       "3503970  Apartamento em condomínio  \n",
       "3503971                    Terreno  \n",
       "\n",
       "[3427884 rows x 8 columns]"
      ]
     },
     "execution_count": 47,
     "metadata": {},
     "output_type": "execute_result"
    }
   ],
   "source": [
    "df_enderecos.loc[df_enderecos.X.notna(), campos_exportacao]"
   ]
  },
  {
   "cell_type": "code",
   "execution_count": null,
   "metadata": {},
   "outputs": [],
   "source": []
  },
  {
   "cell_type": "code",
   "execution_count": 9,
   "metadata": {},
   "outputs": [
    {
     "data": {
      "text/html": [
       "<pre>✔️ 10.6 s (2021-02-16T09:24:50/2021-02-16T09:25:01)</pre>"
      ],
      "text/plain": [
       "<IPython.core.display.HTML object>"
      ]
     },
     "metadata": {},
     "output_type": "display_data"
    },
    {
     "data": {
      "text/plain": [
       "R                2819050\n",
       "DE                513244\n",
       "AV                506628\n",
       "DA                167653\n",
       "DR                143987\n",
       "                  ...   \n",
       "ARACATI-MIRIM          1\n",
       "LETONIA                1\n",
       "TAIO                   1\n",
       "MENFIS                 1\n",
       "PRISCA                 1\n",
       "Length: 21859, dtype: int64"
      ]
     },
     "execution_count": 9,
     "metadata": {},
     "output_type": "execute_result"
    }
   ],
   "source": [
    "df_iptu['NOME DE LOGRADOURO DO IMOVEL'].str.split(expand=True).stack().value_counts()"
   ]
  }
 ],
 "metadata": {
  "kernelspec": {
   "display_name": "Python 3",
   "language": "python",
   "name": "python3"
  },
  "language_info": {
   "codemirror_mode": {
    "name": "ipython",
    "version": 3
   },
   "file_extension": ".py",
   "mimetype": "text/x-python",
   "name": "python",
   "nbconvert_exporter": "python",
   "pygments_lexer": "ipython3",
   "version": "3.8.2"
  }
 },
 "nbformat": 4,
 "nbformat_minor": 4
}
