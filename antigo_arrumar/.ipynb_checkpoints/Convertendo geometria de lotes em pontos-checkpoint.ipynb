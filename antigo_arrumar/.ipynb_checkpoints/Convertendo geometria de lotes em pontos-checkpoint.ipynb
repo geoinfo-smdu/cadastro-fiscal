{
 "cells": [
  {
   "cell_type": "code",
   "execution_count": 1,
   "metadata": {},
   "outputs": [],
   "source": [
    "import geopandas as gpd\n",
    "import pandas as pd"
   ]
  },
  {
   "cell_type": "code",
   "execution_count": 5,
   "metadata": {},
   "outputs": [
    {
     "name": "stdout",
     "output_type": "stream",
     "text": [
      "SIRGAS_SHP_LOTES_78_SE 2702\n"
     ]
    },
    {
     "name": "stderr",
     "output_type": "stream",
     "text": [
      "/home/fernando/miniconda3/envs/geo/lib/python3.8/site-packages/geopandas/geodataframe.py:853: SettingWithCopyWarning: \n",
      "A value is trying to be set on a copy of a slice from a DataFrame.\n",
      "Try using .loc[row_indexer,col_indexer] = value instead\n",
      "\n",
      "See the caveats in the documentation: https://pandas.pydata.org/pandas-docs/stable/user_guide/indexing.html#returning-a-view-versus-a-copy\n",
      "  super(GeoDataFrame, self).__setitem__(key, value)\n"
     ]
    },
    {
     "ename": "NameError",
     "evalue": "name 'dgdf_temp' is not defined",
     "output_type": "error",
     "traceback": [
      "\u001b[0;31m---------------------------------------------------------------------------\u001b[0m",
      "\u001b[0;31mNameError\u001b[0m                                 Traceback (most recent call last)",
      "\u001b[0;32m<ipython-input-5-712e1922765a>\u001b[0m in \u001b[0;36m<module>\u001b[0;34m\u001b[0m\n\u001b[1;32m     13\u001b[0m     \u001b[0mgdf_temp\u001b[0m\u001b[0;34m[\u001b[0m\u001b[0;34m'lo_lote'\u001b[0m\u001b[0;34m]\u001b[0m\u001b[0;34m\u001b[0m\u001b[0;34m\u001b[0m\u001b[0m\n\u001b[1;32m     14\u001b[0m \u001b[0;34m\u001b[0m\u001b[0m\n\u001b[0;32m---> 15\u001b[0;31m     dgdf_temp.loc[(gdf_temp['lo_condomi'] != '00') & \\\n\u001b[0m\u001b[1;32m     16\u001b[0m                  (gdf_temp['lo_tp_lote'] == 'F')]['lote'] = \\\n\u001b[1;32m     17\u001b[0m     \u001b[0;34m'0000'\u001b[0m\u001b[0;34m\u001b[0m\u001b[0;34m\u001b[0m\u001b[0m\n",
      "\u001b[0;31mNameError\u001b[0m: name 'dgdf_temp' is not defined"
     ]
    }
   ],
   "source": [
    "from pathlib import Path\n",
    "\n",
    "gdf = gpd.GeoDataFrame({'SQLC-lote': []})\n",
    "\n",
    "for path in Path('lotes').rglob('*.zip'):\n",
    "\n",
    "    gdf_temp = gpd.GeoDataFrame.from_file(f'zip://{path}!{path.name[:-4]}')\n",
    "    \n",
    "    print(path.name[:-4], len(gdf_temp))\n",
    "    \n",
    "    gdf_temp.loc[(gdf_temp['lo_condomi'] == '00') & \\\n",
    "                 (gdf_temp['lo_tp_lote'] == 'F'), 'lote'] = \\\n",
    "    gdf_temp.loc[(gdf_temp['lo_condomi'] == '00') & \\\n",
    "                 (gdf_temp['lo_tp_lote'] == 'F'), 'lo_lote']\n",
    "    \n",
    "    gdf_temp.loc[(gdf_temp['lo_condomi'] != '00') & \\\n",
    "                 (gdf_temp['lo_tp_lote'] == 'F'), 'lote'] = \\\n",
    "    '0000'\n",
    "    \n",
    "    gdf_temp['SQLC'] = gdf_temp['lo_setor'] + \\\n",
    "                        gdf_temp['lo_quadra'] + \\\n",
    "                        gdf_temp['lote'] + \\\n",
    "                        gdf_temp['lo_condomi']\n",
    "    \n",
    "    gdf_temp.geometry = gdf_temp.geometry.representative_point()\n",
    "    pd_temp = pd.concat([gdf, gdf_temp[['SQLC-lote', 'geometry']]], ignore_index=True)\n",
    "\n",
    "    gdf = gpd.GeoDataFrame(pd_temp, geometry=pd_temp.geometry)"
   ]
  },
  {
   "cell_type": "code",
   "execution_count": 32,
   "metadata": {},
   "outputs": [],
   "source": [
    "gdf.crs = 'EPSG:31983'"
   ]
  },
  {
   "cell_type": "code",
   "execution_count": 33,
   "metadata": {},
   "outputs": [],
   "source": [
    "gdf = gdf.to_crs(epsg=4326)"
   ]
  },
  {
   "cell_type": "code",
   "execution_count": 50,
   "metadata": {},
   "outputs": [],
   "source": [
    "gdf['x'] = gdf.geometry.x"
   ]
  },
  {
   "cell_type": "code",
   "execution_count": 51,
   "metadata": {},
   "outputs": [],
   "source": [
    "gdf['y'] = gdf.geometry.y"
   ]
  },
  {
   "cell_type": "code",
   "execution_count": 64,
   "metadata": {},
   "outputs": [],
   "source": [
    "gdf.drop(['x', 'y'], axis=1).to_file('resultados/lotes-por-pontos.gpkg', driver='GPKG')"
   ]
  },
  {
   "cell_type": "code",
   "execution_count": 62,
   "metadata": {},
   "outputs": [],
   "source": [
    "pd.DataFrame(gdf[['SQLC', 'x', 'y']]).to_csv('resultados/lotes-por-pontos.csv.gz', \n",
    "                                              compression='gzip', \n",
    "                                              index=False)"
   ]
  },
  {
   "cell_type": "code",
   "execution_count": null,
   "metadata": {},
   "outputs": [],
   "source": []
  },
  {
   "cell_type": "code",
   "execution_count": null,
   "metadata": {},
   "outputs": [],
   "source": []
  }
 ],
 "metadata": {
  "kernelspec": {
   "display_name": "Python 3",
   "language": "python",
   "name": "python3"
  },
  "language_info": {
   "codemirror_mode": {
    "name": "ipython",
    "version": 3
   },
   "file_extension": ".py",
   "mimetype": "text/x-python",
   "name": "python",
   "nbconvert_exporter": "python",
   "pygments_lexer": "ipython3",
   "version": "3.8.2"
  }
 },
 "nbformat": 4,
 "nbformat_minor": 4
}
